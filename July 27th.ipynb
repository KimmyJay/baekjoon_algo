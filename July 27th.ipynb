{
 "cells": [
  {
   "cell_type": "code",
   "execution_count": 71,
   "metadata": {},
   "outputs": [
    {
     "name": "stdout",
     "output_type": "stream",
     "text": [
      "P\n"
     ]
    }
   ],
   "source": [
    "# 첫째 줄에 이 단어에서 가장 많이 사용된 알파벳을 대문자로 출력한다. 단, 가장 많이 사용된 알파벳이 여러 개 존재하는 경우에는 ?를 출력한다.\n",
    "\n",
    "word = str(input())\n",
    "\n",
    "alphabet_occurrence_array = [0] * 26\n",
    "\n",
    "for char in word:\n",
    "    arr_index = ord(char.lower()) - ord('a')\n",
    "    alphabet_occurrence_array[arr_index] += 1      \n",
    "\n",
    "max_occurrence = 0\n",
    "max_alphabet_index = 0\n",
    "\n",
    "for i in range(len(alphabet_occurrence_array)):\n",
    "    if alphabet_occurrence_array[i] >= max_occurrence:\n",
    "        max_occurrence = alphabet_occurrence_array[i]\n",
    "        max_alphabet_index = i\n",
    "\n",
    "if alphabet_occurrence_array.count(max_occurrence) > 1:\n",
    "    print('?')\n",
    "else:\n",
    "    print(chr(max_alphabet_index + ord('a')).upper())\n",
    "\n",
    "      "
   ]
  },
  {
   "cell_type": "code",
   "execution_count": null,
   "metadata": {},
   "outputs": [],
   "source": [
    "word = str(input())\n",
    "croatian_alphabets = ['c=', 'c-', 'dz=', 'd-', 'lj', 'nj', 's=', 'z=']\n",
    "\n",
    "for c in croatian_alphabets:\n",
    "    word = word.replace(c, '!')\n",
    "\n",
    "print(len(word))"
   ]
  },
  {
   "cell_type": "code",
   "execution_count": 74,
   "metadata": {},
   "outputs": [
    {
     "ename": "ValueError",
     "evalue": "invalid literal for int() with base 10: ''",
     "output_type": "error",
     "traceback": [
      "\u001b[0;31m---------------------------------------------------------------------------\u001b[0m",
      "\u001b[0;31mValueError\u001b[0m                                Traceback (most recent call last)",
      "\u001b[1;32m/Users/franciskim/Desktop/baekjoon_algo/July 27th.ipynb Cell 3'\u001b[0m in \u001b[0;36m<cell line: 6>\u001b[0;34m()\u001b[0m\n\u001b[1;32m      <a href='vscode-notebook-cell:/Users/franciskim/Desktop/baekjoon_algo/July%2027th.ipynb#ch0000002?line=0'>1</a>\u001b[0m \u001b[39m# 그룹 단어란 단어에 존재하는 모든 문자에 대해서, 각 문자가 연속해서 나타나는 경우만을 말한다. \u001b[39;00m\n\u001b[1;32m      <a href='vscode-notebook-cell:/Users/franciskim/Desktop/baekjoon_algo/July%2027th.ipynb#ch0000002?line=1'>2</a>\u001b[0m \u001b[39m# 예를 들면, ccazzzzbb는 c, a, z, b가 모두 연속해서 나타나고, kin도 k, i, n이 \u001b[39;00m\n\u001b[1;32m      <a href='vscode-notebook-cell:/Users/franciskim/Desktop/baekjoon_algo/July%2027th.ipynb#ch0000002?line=2'>3</a>\u001b[0m \u001b[39m# 연속해서 나타나기 때문에 그룹 단어이지만, aabbbccb는 b가 떨어져서 나타나기 때문에 그룹 단어가 아니다.\u001b[39;00m\n\u001b[1;32m      <a href='vscode-notebook-cell:/Users/franciskim/Desktop/baekjoon_algo/July%2027th.ipynb#ch0000002?line=3'>4</a>\u001b[0m \u001b[39m# 단어 N개를 입력으로 받아 그룹 단어의 개수를 출력하는 프로그램을 작성하시오.\u001b[39;00m\n\u001b[0;32m----> <a href='vscode-notebook-cell:/Users/franciskim/Desktop/baekjoon_algo/July%2027th.ipynb#ch0000002?line=5'>6</a>\u001b[0m n \u001b[39m=\u001b[39m \u001b[39mint\u001b[39;49m(\u001b[39minput\u001b[39;49m())\n\u001b[1;32m      <a href='vscode-notebook-cell:/Users/franciskim/Desktop/baekjoon_algo/July%2027th.ipynb#ch0000002?line=6'>7</a>\u001b[0m count \u001b[39m=\u001b[39m n\n\u001b[1;32m      <a href='vscode-notebook-cell:/Users/franciskim/Desktop/baekjoon_algo/July%2027th.ipynb#ch0000002?line=7'>8</a>\u001b[0m \u001b[39mfor\u001b[39;00m i \u001b[39min\u001b[39;00m \u001b[39mrange\u001b[39m(n):\n",
      "\u001b[0;31mValueError\u001b[0m: invalid literal for int() with base 10: ''"
     ]
    }
   ],
   "source": [
    "# 그룹 단어란 단어에 존재하는 모든 문자에 대해서, 각 문자가 연속해서 나타나는 경우만을 말한다. \n",
    "# 예를 들면, ccazzzzbb는 c, a, z, b가 모두 연속해서 나타나고, kin도 k, i, n이 \n",
    "# 연속해서 나타나기 때문에 그룹 단어이지만, aabbbccb는 b가 떨어져서 나타나기 때문에 그룹 단어가 아니다.\n",
    "# 단어 N개를 입력으로 받아 그룹 단어의 개수를 출력하는 프로그램을 작성하시오.\n",
    "\n",
    "n = int(input())\n",
    "count = n\n",
    "for i in range(n):\n",
    "    word = input()\n",
    "    for j in range(len(word)-1):\n",
    "        if word[j] == word[j+1]:\n",
    "            pass\n",
    "        elif word[j] in word[j+1:]:\n",
    "            count -= 1\n",
    "            break\n",
    "\n",
    "print(count)"
   ]
  }
 ],
 "metadata": {
  "interpreter": {
   "hash": "7e1998ff7f8aa20ada591c520b972326324e5ea05489af9e422744c7c09f6dad"
  },
  "kernelspec": {
   "display_name": "Python 3.10.2 64-bit",
   "language": "python",
   "name": "python3"
  },
  "language_info": {
   "codemirror_mode": {
    "name": "ipython",
    "version": 3
   },
   "file_extension": ".py",
   "mimetype": "text/x-python",
   "name": "python",
   "nbconvert_exporter": "python",
   "pygments_lexer": "ipython3",
   "version": "3.10.2"
  },
  "orig_nbformat": 4
 },
 "nbformat": 4,
 "nbformat_minor": 2
}
