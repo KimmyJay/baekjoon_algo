{
 "cells": [
  {
   "cell_type": "code",
   "execution_count": null,
   "metadata": {},
   "outputs": [],
   "source": [
    "# small = 3 big = 5\n",
    "# return -1 if goal unattainable\n",
    "\n",
    "weight = int(input())\n",
    "remainder = weight % 5\n",
    "if remainder < 3:\n",
    "    print(-1)\n",
    "else:\n",
    "    \n"
   ]
  }
 ],
 "metadata": {
  "language_info": {
   "name": "python"
  },
  "orig_nbformat": 4
 },
 "nbformat": 4,
 "nbformat_minor": 2
}
