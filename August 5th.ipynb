{
 "cells": [
  {
   "cell_type": "markdown",
   "metadata": {},
   "source": [
    "## codewars"
   ]
  },
  {
   "cell_type": "code",
   "execution_count": null,
   "metadata": {},
   "outputs": [],
   "source": [
    "# Given a two-dimensional array of integers, return the flattened version\n",
    "# of the array with all the integers in the sorted (ascending) order.\n",
    "def flatten_and_sort(array):\n",
    "    result = []\n",
    "    for i in range(len(array)):\n",
    "        for j in range(len(array[i])):\n",
    "            result.append(array[i][j])\n",
    "    \n",
    "    return sorted(result)"
   ]
  },
  {
   "cell_type": "code",
   "execution_count": null,
   "metadata": {},
   "outputs": [],
   "source": [
    "def is_palindrome(word):\n",
    "    word = word.lower()\n",
    "    if len(word) < 2: return True\n",
    "    if word[0] != word[-1]: return False\n",
    "    return is_palindrome(word[1:-1])\n"
   ]
  },
  {
   "cell_type": "code",
   "execution_count": null,
   "metadata": {},
   "outputs": [],
   "source": [
    "def narcissistic( value ):\n",
    "    digits = list(map(int, str(value)))\n",
    "    sum = 0\n",
    "    for digit in digits:\n",
    "        sum += digit ** len(digits)\n",
    "    \n",
    "    return int(''.join(str(n) for n in digits)) == sum"
   ]
  },
  {
   "cell_type": "code",
   "execution_count": null,
   "metadata": {},
   "outputs": [],
   "source": [
    "def descending_order(num):\n",
    "    digits = sorted(list(map(int, str(num))))[::-1]\n",
    "    return int(''.join(str(x) for x in digits))"
   ]
  }
 ],
 "metadata": {
  "language_info": {
   "name": "python"
  },
  "orig_nbformat": 4
 },
 "nbformat": 4,
 "nbformat_minor": 2
}
