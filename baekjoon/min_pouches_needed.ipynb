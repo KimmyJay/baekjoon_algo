{
 "cells": [
  {
   "cell_type": "code",
   "execution_count": null,
   "metadata": {},
   "outputs": [],
   "source": [
    "# small = 3 big = 5\n",
    "# return min amount of pouches needed for goal or -1 if goal unattainable\n",
    "\n",
    "goal = int(input())\n",
    "count = 0\n",
    "while goal >= 0:\n",
    "    if goal % 5 == 0: # begin by checking if goal is divisible by 5\n",
    "        count += (goal // 5) \n",
    "        print(count)\n",
    "        break\n",
    "    goal -= 3 # if not divisible by 5, we subtract 3 and increase count of small pouch --> continue to next iteration\n",
    "    count += 1\n",
    "else:\n",
    "    print(-1)"
   ]
  }
 ],
 "metadata": {
  "language_info": {
   "name": "python"
  },
  "orig_nbformat": 4
 },
 "nbformat": 4,
 "nbformat_minor": 2
}
