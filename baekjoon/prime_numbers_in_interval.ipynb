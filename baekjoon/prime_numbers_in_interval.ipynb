{
 "cells": [
  {
   "cell_type": "code",
   "execution_count": null,
   "metadata": {},
   "outputs": [],
   "source": [
    "#find all prime numbers in a given interval(inclusive)\n",
    "nums = list(map(int, input().split(' ')))\n",
    "for i in range(nums[0], nums[1] + 1):\n",
    "  if i > 1:\n",
    "    for j in range(2, i):\n",
    "        if i % j == 0:\n",
    "            break\n",
    "    else:\n",
    "        print(i)"
   ]
  }
 ],
 "metadata": {
  "language_info": {
   "name": "python"
  },
  "orig_nbformat": 4
 },
 "nbformat": 4,
 "nbformat_minor": 2
}
