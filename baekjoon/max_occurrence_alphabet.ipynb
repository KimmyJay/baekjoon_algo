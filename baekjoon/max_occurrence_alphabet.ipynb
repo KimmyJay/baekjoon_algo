{
 "cells": [
  {
   "cell_type": "code",
   "execution_count": null,
   "metadata": {},
   "outputs": [],
   "source": [
    "# 첫째 줄에 이 단어에서 가장 많이 사용된 알파벳을 대문자로 출력한다. 단, 가장 많이 사용된 알파벳이 여러 개 존재하는 경우에는 ?를 출력한다.\n",
    "\n",
    "word = str(input())\n",
    "\n",
    "alphabet_occurrence_array = [0] * 26\n",
    "\n",
    "for char in word:\n",
    "    arr_index = ord(char.lower()) - ord('a')\n",
    "    alphabet_occurrence_array[arr_index] += 1      \n",
    "\n",
    "max_occurrence = 0\n",
    "max_alphabet_index = 0\n",
    "\n",
    "for i in range(len(alphabet_occurrence_array)):\n",
    "    if alphabet_occurrence_array[i] >= max_occurrence:\n",
    "        max_occurrence = alphabet_occurrence_array[i]\n",
    "        max_alphabet_index = i\n",
    "\n",
    "if alphabet_occurrence_array.count(max_occurrence) > 1:\n",
    "    print('?')\n",
    "else:\n",
    "    print(chr(max_alphabet_index + ord('a')).upper())"
   ]
  }
 ],
 "metadata": {
  "language_info": {
   "name": "python"
  },
  "orig_nbformat": 4
 },
 "nbformat": 4,
 "nbformat_minor": 2
}
