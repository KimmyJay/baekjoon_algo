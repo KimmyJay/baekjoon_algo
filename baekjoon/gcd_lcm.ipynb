{
 "cells": [
  {
   "cell_type": "code",
   "execution_count": null,
   "metadata": {},
   "outputs": [],
   "source": [
    "# find GCD and LCM of two given integers\n",
    "import math\n",
    "nums = [int(x) for x in str(input()).split(' ')]\n",
    "print(math.gcd(nums[0], nums[1]))\n",
    "print(math.lcm(nums[0], nums[1]))    "
   ]
  }
 ],
 "metadata": {
  "language_info": {
   "name": "python"
  },
  "orig_nbformat": 4
 },
 "nbformat": 4,
 "nbformat_minor": 2
}
