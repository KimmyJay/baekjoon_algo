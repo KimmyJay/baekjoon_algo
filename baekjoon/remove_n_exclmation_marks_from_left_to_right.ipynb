{
 "cells": [
  {
   "cell_type": "code",
   "execution_count": null,
   "metadata": {},
   "outputs": [],
   "source": [
    "# Remove n exclamation marks in the sentence from left to right. n is positive integer.\n",
    "\n",
    "# fisrt attempt\n",
    "def remove(s, n):\n",
    "    chars = list(s)\n",
    "    for i in range(len(chars)):\n",
    "        if n == 0:\n",
    "            break\n",
    "        if chars[i] == '!':\n",
    "            chars[i] = ''\n",
    "            n -= 1\n",
    "    \n",
    "    return ''.join(chars)\n",
    "\n",
    "# one-liner solution using replace() method   \n",
    "def remove(s, n):\n",
    "    return s.replace(\"!\", \"\", n)"
   ]
  }
 ],
 "metadata": {
  "language_info": {
   "name": "python"
  },
  "orig_nbformat": 4
 },
 "nbformat": 4,
 "nbformat_minor": 2
}
