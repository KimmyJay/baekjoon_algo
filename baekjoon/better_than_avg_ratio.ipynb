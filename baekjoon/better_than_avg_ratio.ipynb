{
 "cells": [
  {
   "cell_type": "code",
   "execution_count": null,
   "metadata": {},
   "outputs": [],
   "source": [
    "case = [int(x) for x in str(input()).split()]\n",
    "total_students, grades = case[0], case[1:]\n",
    "avg = sum(grades) / total_students\n",
    "\n",
    "better_than_avg = []\n",
    "for grade in grades:\n",
    "  if grade > avg:\n",
    "      better_than_avg.append(grade)\n",
    "\n",
    "better_than_avg_ratio = len(better_than_avg) / total_students * 100\n",
    "\n",
    "print('%.3f%%' % better_than_avg_ratio)"
   ]
  }
 ],
 "metadata": {
  "language_info": {
   "name": "python"
  },
  "orig_nbformat": 4
 },
 "nbformat": 4,
 "nbformat_minor": 2
}
