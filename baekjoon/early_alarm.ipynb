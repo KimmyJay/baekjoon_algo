{
 "cells": [
  {
   "cell_type": "code",
   "execution_count": null,
   "metadata": {},
   "outputs": [],
   "source": [
    "hr, min = map(int, input().split(' '))\n",
    "\n",
    "def early_alarm(hr, min):\n",
    "  if min > 45:\n",
    "    print(hr, min - 45)\n",
    "  if min == 45:\n",
    "    print(hr, 0)\n",
    "  if hr == 0 and min < 45:\n",
    "    print(23, 60 - abs(min - 45))\n",
    "  if hr > 0 and min < 45:\n",
    "    print(hr - 1, 60 - abs(min - 45))\n",
    "\n",
    "early_alarm(hr, min)"
   ]
  }
 ],
 "metadata": {
  "language_info": {
   "name": "python"
  },
  "orig_nbformat": 4
 },
 "nbformat": 4,
 "nbformat_minor": 2
}
