{
 "cells": [
  {
   "cell_type": "code",
   "execution_count": null,
   "metadata": {},
   "outputs": [],
   "source": [
    "# return all numbers in given range that are self-numbers, \n",
    "# which are numbers that cannot be obtained by summing the digits of a number\n",
    "\n",
    "nums = set(range(1,10001))\n",
    "non_self_nums = set()\n",
    "\n",
    "for i in range (1,10001):\n",
    "    for j in str(i):\n",
    "        i += int(j)\n",
    "    non_self_nums.add(i)\n",
    "\n",
    "nums -= non_self_nums\n",
    "\n",
    "for n in sorted(nums):\n",
    "    print(n)\n"
   ]
  }
 ],
 "metadata": {
  "language_info": {
   "name": "python"
  },
  "orig_nbformat": 4
 },
 "nbformat": 4,
 "nbformat_minor": 2
}
