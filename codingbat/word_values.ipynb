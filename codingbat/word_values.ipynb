{
 "cells": [
  {
   "cell_type": "code",
   "execution_count": null,
   "metadata": {},
   "outputs": [],
   "source": [
    "# Given a string \"abc\" and assuming that each letter in the string has a value equal to its position in the alphabet, \n",
    "# our string will have a value of 1 + 2 + 3 = 6. This means that: a = 1, b = 2, c = 3 ....z = 26.\n",
    "\n",
    "# You will be given a list of strings and your task will be to return the values of the strings \n",
    "# as explained above multiplied by the position of that string in the list. For our purpose, position begins with 1.\n",
    "\n",
    "# nameValue [\"abc\",\"abc abc\"] should return [6,24] because of [ 6 * 1, 12 * 2 ]. Note how spaces are ignored.\n",
    "# Input will only contain lowercase characters and spaces.\n",
    "\n",
    "def name_value(my_list):\n",
    "    res = []\n",
    "    for i, string in enumerate(my_list):\n",
    "        sum = 0\n",
    "        for char in string:\n",
    "            if char.isalpha():\n",
    "                sum += (ord(char)-96)\n",
    "        \n",
    "        res.append((i+1) * sum)\n",
    "    \n",
    "    return res"
   ]
  }
 ],
 "metadata": {
  "language_info": {
   "name": "python"
  },
  "orig_nbformat": 4
 },
 "nbformat": 4,
 "nbformat_minor": 2
}
