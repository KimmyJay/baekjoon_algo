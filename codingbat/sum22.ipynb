{
 "cells": [
  {
   "cell_type": "code",
   "execution_count": null,
   "metadata": {},
   "outputs": [],
   "source": [
    "# Given an array of ints, return True if the array contains a 2 next to a 2 somewhere.\n",
    "# has22([1, 2, 2]) → True\n",
    "# has22([1, 2, 1, 2]) → False\n",
    "# has22([2, 1, 2]) → False\n",
    "\n",
    "def has22(nums):\n",
    "  for i in range(1, len(nums)):\n",
    "    if nums[i] == 2 and nums[i-1] == 2:\n",
    "      return True\n",
    "  \n",
    "  return False\n"
   ]
  }
 ],
 "metadata": {
  "language_info": {
   "name": "python"
  },
  "orig_nbformat": 4
 },
 "nbformat": 4,
 "nbformat_minor": 2
}
