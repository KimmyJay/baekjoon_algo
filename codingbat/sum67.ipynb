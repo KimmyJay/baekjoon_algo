{
 "cells": [
  {
   "cell_type": "code",
   "execution_count": null,
   "metadata": {},
   "outputs": [],
   "source": [
    "# Return the sum of the numbers in the array, except ignore sections of numbers starting \n",
    "# with a 6 and extending to the next 7 (every 6 will be followed by at least one 7). \n",
    "# Return 0 for no numbers.\n",
    "\n",
    "# sum67([1, 2, 2]) → 5\n",
    "# sum67([1, 2, 2, 6, 99, 99, 7]) → 5\n",
    "# sum67([1, 1, 6, 7, 2]) → 4\n",
    "\n",
    "def sum67(nums):\n",
    "  switch = True\n",
    "  sum = 0\n",
    "  for i in range(len(nums)):\n",
    "    if nums[i] == 6:\n",
    "      switch = False\n",
    "    if switch:\n",
    "      sum += nums[i]\n",
    "    if nums[i] == 7:\n",
    "      switch = True\n",
    "  \n",
    "  return sum"
   ]
  }
 ],
 "metadata": {
  "language_info": {
   "name": "python"
  },
  "orig_nbformat": 4
 },
 "nbformat": 4,
 "nbformat_minor": 2
}
