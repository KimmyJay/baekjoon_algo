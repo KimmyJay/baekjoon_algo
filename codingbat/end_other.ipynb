{
 "cells": [
  {
   "cell_type": "code",
   "execution_count": null,
   "metadata": {},
   "outputs": [],
   "source": [
    "# Given two strings, return True if either of the strings appears at the very end of the other string, \n",
    "# ignoring upper/lower case differences (in other words, the computation should not be \"case sensitive\"). \n",
    "\n",
    "# end_other('Hiabc', 'abc') → True\n",
    "# end_other('AbC', 'HiaBc') → True\n",
    "# end_other('abc', 'abXabc') → True\n",
    "\n",
    "def end_other(a, b):\n",
    "  a = a.lower()\n",
    "  b = b.lower()\n",
    "  return a.endswith(b) or b.endswith(a)"
   ]
  }
 ],
 "metadata": {
  "language_info": {
   "name": "python"
  },
  "orig_nbformat": 4
 },
 "nbformat": 4,
 "nbformat_minor": 2
}
