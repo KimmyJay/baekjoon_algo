{
 "cells": [
  {
   "cell_type": "code",
   "execution_count": null,
   "metadata": {},
   "outputs": [],
   "source": [
    "# Return True if the string \"cat\" and \"dog\" appear the same number of times in the given string.\n",
    "\n",
    "# cat_dog('catdog') → True\n",
    "# cat_dog('catcat') → False\n",
    "# cat_dog('1cat1cadodog') → True\n",
    "\n",
    "def cat_dog(str):\n",
    "  cat_cnt = 0\n",
    "  dog_cnt = 0\n",
    "  for i in range(len(str)-2):\n",
    "    if str[i:i+3] == 'cat':\n",
    "      cat_cnt += 1\n",
    "    if str[i:i+3] == 'dog':\n",
    "      dog_cnt += 1\n",
    "\n",
    "  return cat_cnt == dog_cnt"
   ]
  }
 ],
 "metadata": {
  "language_info": {
   "name": "python"
  },
  "orig_nbformat": 4
 },
 "nbformat": 4,
 "nbformat_minor": 2
}
