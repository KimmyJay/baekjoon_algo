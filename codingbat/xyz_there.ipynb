{
 "cells": [
  {
   "cell_type": "code",
   "execution_count": null,
   "metadata": {},
   "outputs": [],
   "source": [
    "# Return True if the given string contains an appearance of \"xyz\" where \n",
    "# the xyz is not directly preceeded by a period (.). So \"xxyz\" counts but \"x.xyz\" does not.\n",
    "\n",
    "# xyz_there('abcxyz') → True\n",
    "# xyz_there('abc.xyz') → False\n",
    "# xyz_there('xyz.abc') → True\n",
    "\n",
    "def xyz_there(str):\n",
    "  if str[:3] == 'xyz': # if the first three characters are 'xyz', there is no preceding characters\n",
    "    return True\n",
    "  \n",
    "  for i in range(1, len(str) - 2): # else, we traverse through the list from the first index, in blocks of three elements\n",
    "    if str[i-1] != '.' and str[i:i+3] == 'xyz':\n",
    "      return True\n",
    "  \n",
    "  return False\n",
    "    "
   ]
  }
 ],
 "metadata": {
  "language_info": {
   "name": "python"
  },
  "orig_nbformat": 4
 },
 "nbformat": 4,
 "nbformat_minor": 2
}
