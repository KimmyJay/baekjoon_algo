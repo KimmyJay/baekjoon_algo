{
 "cells": [
  {
   "cell_type": "code",
   "execution_count": null,
   "metadata": {},
   "outputs": [],
   "source": [
    "# Return the sum of the numbers in the array, returning 0 for an empty array. \n",
    "# Except the number 13 is very unlucky, so it does not count and numbers that come immediately after a 13 also do not count.\n",
    "\n",
    "# sum13([1, 2, 2, 1]) → 6\n",
    "# sum13([1, 1]) → 2\n",
    "# sum13([1, 2, 2, 1, 13]) → 6\n",
    "\n",
    "def sum13(nums):\n",
    "  if nums:\n",
    "    for i in range(len(nums)):\n",
    "      if nums[i] == 13:\n",
    "          nums[i] = 0\n",
    "          if i+1 < len(nums):\n",
    "            nums[i+1] = 0\n",
    "    return sum(nums)\n",
    "    \n",
    "  return 0"
   ]
  }
 ],
 "metadata": {
  "language_info": {
   "name": "python"
  },
  "orig_nbformat": 4
 },
 "nbformat": 4,
 "nbformat_minor": 2
}
