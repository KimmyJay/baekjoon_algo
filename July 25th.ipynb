{
 "cells": [
  {
   "cell_type": "code",
   "execution_count": null,
   "metadata": {},
   "outputs": [],
   "source": [
    "def operate(a, b):\n",
    "  \n",
    "  return f\"{a + b} \\n {a - b} \\n {a * b} \\n {round(a / b)} \\n {a % b}\""
   ]
  },
  {
   "cell_type": "code",
   "execution_count": null,
   "metadata": {},
   "outputs": [],
   "source": [
    "def three_by_three_multiply(a, b):\n",
    "  b_digits = list(reversed([int(x) for x in str(b)]))\n",
    "  multiplier = 1\n",
    "  result = ''\n",
    "  \n",
    "  for n in b_digits:\n",
    "    result += str(n * a * multiplier) + '\\n'\n",
    "    multiplier *= 10\n",
    "\n",
    "  result += str(a*b)\n",
    "\n",
    "  return result"
   ]
  },
  {
   "cell_type": "code",
   "execution_count": null,
   "metadata": {},
   "outputs": [],
   "source": [
    "def early_alarm(hr, min):\n",
    "  if min > 45:\n",
    "    return hr, min - 45\n",
    "\n",
    "  if hr == 0 and min < 45:\n",
    "    return 23, 60 - abs(min - 45)\n",
    "\n",
    "  return hr - 1, 60 - abs(min - 45)\n"
   ]
  }
 ],
 "metadata": {
  "language_info": {
   "name": "python"
  },
  "orig_nbformat": 4
 },
 "nbformat": 4,
 "nbformat_minor": 2
}
