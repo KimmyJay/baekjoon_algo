{
 "cells": [
  {
   "cell_type": "code",
   "execution_count": 6,
   "metadata": {},
   "outputs": [
    {
     "name": "stdout",
     "output_type": "stream",
     "text": [
      "40 \n",
      " -20 \n",
      " 300 \n",
      " 0 \n",
      " 10\n"
     ]
    }
   ],
   "source": [
    "a = int(input())\n",
    "b = int(input())\n",
    "def operate(a, b):\n",
    "  \n",
    "  return f\"{a + b} \\n {a - b} \\n {a * b} \\n {round(a / b)} \\n {a % b}\"\n",
    "\n",
    "print(operate(10, 30))"
   ]
  },
  {
   "cell_type": "code",
   "execution_count": 14,
   "metadata": {},
   "outputs": [
    {
     "name": "stdout",
     "output_type": "stream",
     "text": [
      "2360\n",
      "3776\n",
      "1416\n",
      "181720\n"
     ]
    }
   ],
   "source": [
    "a = int(input())\n",
    "b = int(input())\n",
    "\n",
    "def three_by_three_multiply(a, b):\n",
    "  b_digits = list(reversed([int(x) for x in str(b)]))\n",
    "  result = ''\n",
    "  \n",
    "  for n in b_digits:\n",
    "    result += str(n * a) + '\\n'\n",
    "\n",
    "  result += str(a*b)\n",
    "\n",
    "  return result\n",
    "\n",
    "print(three_by_three_multiply(a, b))\n",
    "\n"
   ]
  },
  {
   "cell_type": "code",
   "execution_count": 9,
   "metadata": {},
   "outputs": [
    {
     "data": {
      "text/plain": [
       "(22, 35)"
      ]
     },
     "execution_count": 9,
     "metadata": {},
     "output_type": "execute_result"
    }
   ],
   "source": [
    "def early_alarm(hr, min):\n",
    "  if min > 45:\n",
    "    return hr, min - 45\n",
    "\n",
    "  if hr == 0 and min < 45:\n",
    "    return 23, 60 - abs(min - 45)\n",
    "\n",
    "  return hr - 1, 60 - abs(min - 45)\n",
    "\n",
    "early_alarm(23, 20)\n",
    "\n"
   ]
  }
 ],
 "metadata": {
  "interpreter": {
   "hash": "8856fd84cb78c2f81987cdad52dd3cf4cb12c51f948353e9b07fe0029c7d9955"
  },
  "kernelspec": {
   "display_name": "Python 3.9.7 ('base')",
   "language": "python",
   "name": "python3"
  },
  "language_info": {
   "codemirror_mode": {
    "name": "ipython",
    "version": 3
   },
   "file_extension": ".py",
   "mimetype": "text/x-python",
   "name": "python",
   "nbconvert_exporter": "python",
   "pygments_lexer": "ipython3",
   "version": "3.9.7"
  },
  "orig_nbformat": 4
 },
 "nbformat": 4,
 "nbformat_minor": 2
}
