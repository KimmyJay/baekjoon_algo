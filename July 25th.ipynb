{
 "cells": [
  {
   "cell_type": "code",
   "execution_count": 19,
   "metadata": {},
   "outputs": [
    {
     "name": "stdout",
     "output_type": "stream",
     "text": [
      " 35 \n",
      " 11 \n",
      " 276 \n",
      " 2 \n",
      " 11\n"
     ]
    }
   ],
   "source": [
    "a, b = map(int, input().split(' '))\n",
    "def operate(a, b):\n",
    "  return f\" {a + b} \\n {a - b} \\n {a * b} \\n {round(a / b)} \\n {a % b}\"\n",
    "\n",
    "print(operate(a, b))"
   ]
  },
  {
   "cell_type": "code",
   "execution_count": 69,
   "metadata": {},
   "outputs": [
    {
     "name": "stdout",
     "output_type": "stream",
     "text": [
      "363\n",
      "363\n",
      "363\n",
      "40293\n"
     ]
    }
   ],
   "source": [
    "a = int(input())\n",
    "b = int(input())\n",
    "\n",
    "def three_by_three_multiply(a, b):\n",
    "  b_digits = list(reversed([int(x) for x in str(b)]))\n",
    "  result = ''\n",
    "  \n",
    "  for n in b_digits:\n",
    "    result += str(n * a) + '\\n'\n",
    "\n",
    "  result += str(a*b)\n",
    "\n",
    "  return(result)\n",
    "\n",
    "print(three_by_three_multiply(a, b))\n",
    "\n"
   ]
  },
  {
   "cell_type": "code",
   "execution_count": 64,
   "metadata": {},
   "outputs": [
    {
     "name": "stdout",
     "output_type": "stream",
     "text": [
      "11 45\n"
     ]
    }
   ],
   "source": [
    "hr, min = map(int, input().split(' '))\n",
    "def early_alarm(hr, min):\n",
    "  if min > 45:\n",
    "    print(hr, min - 45)\n",
    "  if min == 45:\n",
    "    print(hr, 0)\n",
    "  if hr == 0 and min < 45:\n",
    "    print(23, 60 - abs(min - 45))\n",
    "  if hr > 0 and min < 45:\n",
    "    print(hr - 1, 60 - abs(min - 45))\n",
    "\n",
    "early_alarm(hr, min)\n"
   ]
  }
 ],
 "metadata": {
  "interpreter": {
   "hash": "8856fd84cb78c2f81987cdad52dd3cf4cb12c51f948353e9b07fe0029c7d9955"
  },
  "kernelspec": {
   "display_name": "Python 3.9.7 ('base')",
   "language": "python",
   "name": "python3"
  },
  "language_info": {
   "codemirror_mode": {
    "name": "ipython",
    "version": 3
   },
   "file_extension": ".py",
   "mimetype": "text/x-python",
   "name": "python",
   "nbconvert_exporter": "python",
   "pygments_lexer": "ipython3",
   "version": "3.9.7"
  },
  "orig_nbformat": 4
 },
 "nbformat": 4,
 "nbformat_minor": 2
}
