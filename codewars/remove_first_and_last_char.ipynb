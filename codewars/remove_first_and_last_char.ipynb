{
 "cells": [
  {
   "cell_type": "code",
   "execution_count": null,
   "metadata": {},
   "outputs": [],
   "source": [
    "# You are given a string containing a sequence of character sequences separated by commas.\n",
    "# Write a function which returns a new string containing the same character sequences except the first and the last ones but this time separated by spaces.\n",
    "# If the input string is empty or the removal of the first and last items would cause the resulting string to be empty, return an empty value \n",
    "\n",
    "def array(string):\n",
    "    chars = string.split(',')\n",
    "    res = chars[1:-1]\n",
    "\n",
    "    return ' '.join(res) or None # A or B -> A if A else B A and B -> B if A else A"
   ]
  }
 ],
 "metadata": {
  "language_info": {
   "name": "python"
  },
  "orig_nbformat": 4
 },
 "nbformat": 4,
 "nbformat_minor": 2
}
