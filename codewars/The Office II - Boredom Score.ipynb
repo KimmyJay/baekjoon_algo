{
 "cells": [
  {
   "cell_type": "code",
   "execution_count": null,
   "metadata": {},
   "outputs": [],
   "source": [
    "# You will be provided with an object(staff) containing the staff names as keys, and the department they work in as values.\n",
    "# Each department has a different boredom assessment score, as follows:\n",
    "\n",
    "# accounts = 1\n",
    "# finance = 2\n",
    "# canteen = 10\n",
    "# regulation = 3\n",
    "# trading = 6\n",
    "# change = 6\n",
    "# IS = 8\n",
    "# retail = 5\n",
    "# cleaning = 4\n",
    "# pissing about = 25\n",
    "\n",
    "# Depending on the cumulative score of the team, return the appropriate sentiment:\n",
    "\n",
    "# <=80: 'kill me now'\n",
    "# < 100 & > 80: 'i can handle this'\n",
    "# 100 or over: 'party time!!'\n",
    "\n",
    "def boredom(staff):\n",
    "    boredom_pts = {\n",
    "    'accounts': 1,\n",
    "    'finance': 2,\n",
    "    'canteen': 10,\n",
    "    'regulation': 3,\n",
    "    'trading': 6,\n",
    "    'change': 6,\n",
    "    'IS': 8,\n",
    "    'retail': 5,\n",
    "    'cleaning': 4,\n",
    "    'pissing about': 25\n",
    "    }\n",
    "    total = sum(boredom_pts[dep] for dep in staff.values())    \n",
    "    \n",
    "    return \"kill me now\" if total <= 80 else \"party time!!\" if total >= 100 else \"i can handle this\"\n",
    "\n"
   ]
  }
 ],
 "metadata": {
  "language_info": {
   "name": "python"
  },
  "orig_nbformat": 4
 },
 "nbformat": 4,
 "nbformat_minor": 2
}
