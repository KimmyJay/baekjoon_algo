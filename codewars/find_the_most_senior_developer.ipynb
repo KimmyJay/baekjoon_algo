{
 "cells": [
  {
   "cell_type": "code",
   "execution_count": null,
   "metadata": {},
   "outputs": [],
   "source": [
    "# You will be given a sequence of objects representing data about developers who have \n",
    "# signed up to attend the next coding meetup that you are organising.\n",
    "# Your task is to return a sequence which includes the developer who is the oldest. \n",
    "# In case of a tie, include all same-age senior developers listed in the same order as they appeared in the original input array.\n",
    "\n",
    "def find_senior(users):\n",
    "    max_age = max(user['age'] for user in users)\n",
    "    return [user for user in users if user['age'] == max_age]"
   ]
  }
 ],
 "metadata": {
  "language_info": {
   "name": "python"
  },
  "orig_nbformat": 4
 },
 "nbformat": 4,
 "nbformat_minor": 2
}
