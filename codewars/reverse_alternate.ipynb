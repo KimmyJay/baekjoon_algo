{
 "cells": [
  {
   "cell_type": "code",
   "execution_count": null,
   "metadata": {},
   "outputs": [],
   "source": [
    "# Reverse every other word in a given string, then return the string. \n",
    "# Throw away any leading or trailing whitespace, \n",
    "# while ensuring there is exactly one space between each word.\n",
    "\n",
    "# first attempt\n",
    "def reverse_alternate(sentence):\n",
    "    words = sentence.split()\n",
    "    res = []\n",
    "    for i, word in enumerate(words):\n",
    "        if i % 2 == 1:\n",
    "            res.append(word[::-1])\n",
    "        else:\n",
    "            res.append(word)\n",
    "    \n",
    "    return ' '.join(res)\n",
    "\n",
    "# using list comprehension\n",
    "def reverse_alternate(sentence):\n",
    "    return ' '.join(word[::-1] if i % 2 == 1 else word for i, word in enumerate(sentence.split()))\n",
    "        "
   ]
  }
 ],
 "metadata": {
  "language_info": {
   "name": "python"
  },
  "orig_nbformat": 4
 },
 "nbformat": 4,
 "nbformat_minor": 2
}
