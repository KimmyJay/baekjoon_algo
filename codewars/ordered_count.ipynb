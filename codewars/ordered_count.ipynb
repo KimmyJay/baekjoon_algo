{
 "cells": [
  {
   "cell_type": "code",
   "execution_count": null,
   "metadata": {},
   "outputs": [],
   "source": [
    "# Count the number of occurrences of each character and return it as \n",
    "# a list of tuples in order of appearance. For empty output return an empty list.\n",
    "\n",
    "# Example:\n",
    "# ordered_count(\"abracadabra\") == [('a', 5), ('b', 2), ('r', 2), ('c', 1), ('d', 1)]\n",
    "\n",
    "def ordered_count(str_):\n",
    "    chars = []\n",
    "    for char in str_:\n",
    "        if not char in chars: # preserve order and filter duplicates\n",
    "            chars.append(char)\n",
    "        \n",
    "    return [(char, str_.count(char)) for char in chars]"
   ]
  }
 ],
 "metadata": {
  "language_info": {
   "name": "python"
  },
  "orig_nbformat": 4
 },
 "nbformat": 4,
 "nbformat_minor": 2
}
