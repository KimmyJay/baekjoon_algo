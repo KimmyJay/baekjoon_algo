{
 "cells": [
  {
   "cell_type": "code",
   "execution_count": null,
   "metadata": {},
   "outputs": [],
   "source": [
    "# Your task is to return the sum of Triangular Numbers up-to-and-including the nth Triangular Number.\n",
    "# Triangular Number: \"any of the series of numbers (1, 3, 6, 10, 15, etc.) obtained by continued summation of the natural numbers 1, 2, 3, 4, 5, etc.\"\n",
    "# e.g. If 4 is given: 1 + 3 + 6 + 10 = 20.\n",
    "\n",
    "# first attempt\n",
    "def sum_triangular_numbers(n):\n",
    "    triangular_nums = []\n",
    "    for i in range(1, n+1):\n",
    "        traiangular_num = 0\n",
    "        for j in range(i+1):\n",
    "            traiangular_num += j\n",
    "        triangular_nums.append(traiangular_num)\n",
    "        \n",
    "    return sum(triangular_nums)\n",
    "\n",
    "# we can derive a formula to come up w/ a more concise solution\n",
    "def sum_triangular_numbers(n):\n",
    "    return n*(n+1)*(n+2)/6 if n>0 else 0"
   ]
  }
 ],
 "metadata": {
  "language_info": {
   "name": "python"
  },
  "orig_nbformat": 4
 },
 "nbformat": 4,
 "nbformat_minor": 2
}
