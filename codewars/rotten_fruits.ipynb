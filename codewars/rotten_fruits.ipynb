{
 "cells": [
  {
   "cell_type": "code",
   "execution_count": null,
   "metadata": {},
   "outputs": [],
   "source": [
    "# Given an array of fruits, create a function that replaces all the rotten pieces of fruit with fresh ones. \n",
    "# For example, given [\"apple\",\"rottenBanana\",\"apple\"] the replaced array should be [\"apple\",\"banana\",\"apple\"]. \n",
    "\n",
    "# Notes\n",
    "# If the array is null/nil/None or empty you should return empty array ([]).\n",
    "# The rotten fruit name will be in this camelcase (rottenFruit).\n",
    "# The returned array should be in lowercase.\n",
    "\n",
    "# my attempt\n",
    "def remove_rotten(fruits):\n",
    "    if fruits is None:\n",
    "        return []\n",
    "    \n",
    "    for i in range(len(fruits)):\n",
    "        if fruits[i].startswith('rotten'):\n",
    "            fruits[i] = fruits[i].lstrip('rotten').lower()\n",
    "            \n",
    "    return fruits\n",
    "\n",
    "# using list comprehension\n",
    "def remove_rotten(bag_of_fruits):\n",
    "    return [x.replace('rotten', '').lower() for x in bag_of_fruits] if bag_of_fruits else []"
   ]
  }
 ],
 "metadata": {
  "language_info": {
   "name": "python"
  },
  "orig_nbformat": 4
 },
 "nbformat": 4,
 "nbformat_minor": 2
}
