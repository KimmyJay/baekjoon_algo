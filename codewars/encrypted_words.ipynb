{
 "cells": [
  {
   "cell_type": "code",
   "execution_count": null,
   "metadata": {},
   "outputs": [],
   "source": [
    "# Your message is a string containing space separated words.\n",
    "# You need to encrypt each word in the message using the following rules:\n",
    "# The first letter must be converted to its ASCII code.\n",
    "# The second letter must be switched with the last letter\n",
    "\n",
    "def encrypt_this(text):\n",
    "    result = []\n",
    "    \n",
    "    for word in text.split():\n",
    "        # turn word into a list\n",
    "        word = list(word)\n",
    "        \n",
    "        # replace first letter with ascii code\n",
    "        word[0] = str(ord(word[0]))\n",
    "        \n",
    "        # switch 2nd and last letters\n",
    "        if len(word) > 2:\n",
    "            word[1], word[-1] = word[-1], word[1]\n",
    "        \n",
    "        # add to results\n",
    "        result.append(''.join(word))\n",
    "    \n",
    "    return ' '.join(result)"
   ]
  }
 ],
 "metadata": {
  "language_info": {
   "name": "python"
  },
  "orig_nbformat": 4
 },
 "nbformat": 4,
 "nbformat_minor": 2
}
