{
 "cells": [
  {
   "cell_type": "code",
   "execution_count": null,
   "metadata": {},
   "outputs": [],
   "source": [
    "def no_boring_zeros(n):\n",
    "    if n == 0:\n",
    "        return n\n",
    "    \n",
    "    digits = list(str(n))\n",
    "    reversed_digits = digits[::-1]\n",
    "    \n",
    "    for digit in reversed_digits:\n",
    "        if digit == '0':\n",
    "            digits.pop()\n",
    "        else:\n",
    "            break\n",
    "    \n",
    "    return int(''.join(digits))\n",
    "\n",
    "def no_boring_zeros(n):\n",
    "    if n == 0:\n",
    "        return 0\n",
    "\n",
    "    while n % 10 == 0: # if n is divisible by 10, divide n by 10 until n is no longer a multiple of 10\n",
    "        n /= 10\n",
    "    return n\n",
    "\n",
    "def no_boring_zeros(n):\n",
    "    try:\n",
    "        return int(str(n).rstrip('0'))\n",
    "    except ValueError:\n",
    "        return 0"
   ]
  }
 ],
 "metadata": {
  "language_info": {
   "name": "python"
  },
  "orig_nbformat": 4
 },
 "nbformat": 4,
 "nbformat_minor": 2
}
