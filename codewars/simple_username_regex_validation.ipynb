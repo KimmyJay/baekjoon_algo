{
 "cells": [
  {
   "cell_type": "code",
   "execution_count": null,
   "metadata": {},
   "outputs": [],
   "source": [
    "# Write a simple regex to validate a username. \n",
    "# Allowed characters are:\n",
    "# lowercase letters,\n",
    "# numbers,\n",
    "# underscore\n",
    "# Length should be between 4 and 16 characters (both included).\n",
    "\n",
    "import re\n",
    "def validate_usr(username):\n",
    "    return bool(re.match(r'^[a-z0-9_]{4,16}$', username))"
   ]
  }
 ],
 "metadata": {
  "language_info": {
   "name": "python"
  },
  "orig_nbformat": 4
 },
 "nbformat": 4,
 "nbformat_minor": 2
}
