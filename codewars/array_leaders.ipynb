{
 "cells": [
  {
   "cell_type": "code",
   "execution_count": null,
   "metadata": {},
   "outputs": [],
   "source": [
    "# Given an array/list [] of integers , Find all the LEADERS in the array.\n",
    "# An element is leader if it is greater than The Sum all the elements to its right side.\n",
    "\n",
    "def array_leaders(nums):\n",
    "    leaders = []\n",
    "    for i in range(len(nums)):\n",
    "        if nums[i] > sum(nums[i+1:]):\n",
    "            leaders.append(nums[i])\n",
    "            \n",
    "    return leaders"
   ]
  }
 ],
 "metadata": {
  "language_info": {
   "name": "python"
  },
  "orig_nbformat": 4
 },
 "nbformat": 4,
 "nbformat_minor": 2
}
