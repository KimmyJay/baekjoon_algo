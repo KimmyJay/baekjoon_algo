{
 "cells": [
  {
   "cell_type": "code",
   "execution_count": null,
   "metadata": {},
   "outputs": [],
   "source": [
    "# Disarium number is the number that the sum of its digits powered with their respective positions is equal to the number itself.\n",
    "# Given a number, find if it is disarium or not .\n",
    "\n",
    "def is_disarium_number(num):\n",
    "    digits = list(map(int, str(num)))\n",
    "    res = 0\n",
    "    \n",
    "    for i, digit in enumerate(digits):\n",
    "        res += digit ** (i+1)\n",
    "    \n",
    "    return res == num"
   ]
  }
 ],
 "metadata": {
  "language_info": {
   "name": "python"
  },
  "orig_nbformat": 4
 },
 "nbformat": 4,
 "nbformat_minor": 2
}
