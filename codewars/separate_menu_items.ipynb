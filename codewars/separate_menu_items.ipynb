{
 "cells": [
  {
   "cell_type": "code",
   "execution_count": null,
   "metadata": {},
   "outputs": [],
   "source": [
    "# Write a program that takes a string of orders that separates the orders as follows:\n",
    "# \"milkshakepizzachickenfriescokeburgerpizzasandwichmilkshakepizza\"\n",
    "# \"Burger Fries Chicken Pizza Pizza Pizza Sandwich Milkshake Milkshake Coke\"\n",
    "# The kitchen staff expect the items to be in the same order as they appear in the menu.\n",
    "\n",
    "# The menu items are fairly simple, there is no overlap in the names of the items:\n",
    "\n",
    "# 1. Burger\n",
    "# 2. Fries\n",
    "# 3. Chicken\n",
    "# 4. Pizza\n",
    "# 5. Sandwich\n",
    "# 6. Onionrings\n",
    "# 7. Milkshake\n",
    "# 8. Coke\n",
    "\n",
    "def get_order(order):\n",
    "    menu = [\"Burger\", \"Fries\", \"Chicken\", \"Pizza\", \"Sandwich\", \"Onionrings\", \"Milkshake\", \"Coke\"]\n",
    "    res = ''\n",
    "    for item in menu:\n",
    "        if item.lower() in order:\n",
    "            res += (item + \" \") * order.count(item.lower())\n",
    "    \n",
    "    return res[:-1]\n"
   ]
  }
 ],
 "metadata": {
  "language_info": {
   "name": "python"
  },
  "orig_nbformat": 4
 },
 "nbformat": 4,
 "nbformat_minor": 2
}
