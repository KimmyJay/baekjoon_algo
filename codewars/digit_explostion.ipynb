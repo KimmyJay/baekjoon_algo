{
 "cells": [
  {
   "cell_type": "code",
   "execution_count": null,
   "metadata": {},
   "outputs": [],
   "source": [
    "# Given a string made of digits [0-9], return a string where each digit is repeated a number of times equals to its value.\n",
    "# explode(\"312\") ---> \"333122\"\n",
    "\n",
    "def explode(s):\n",
    "    digits = list(map(int, s))\n",
    "    res = []\n",
    "    for digit in digits:\n",
    "        for i in range(digit):\n",
    "            res.append(digit)\n",
    "    \n",
    "    return ''.join(list(map(str, res)))\n",
    "\n",
    "# one liner\n",
    "def explode(s):\n",
    "    return ''.join(c * int(c) for c in s)"
   ]
  }
 ],
 "metadata": {
  "language_info": {
   "name": "python"
  },
  "orig_nbformat": 4
 },
 "nbformat": 4,
 "nbformat_minor": 2
}
