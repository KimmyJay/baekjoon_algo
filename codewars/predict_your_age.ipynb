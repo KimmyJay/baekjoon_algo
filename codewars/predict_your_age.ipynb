{
 "cells": [
  {
   "cell_type": "code",
   "execution_count": null,
   "metadata": {},
   "outputs": [],
   "source": [
    "# Take a list of ages when each of your great-grandparent died.\n",
    "# Multiply each number by itself.\n",
    "# Add them all together.\n",
    "# Take the square root of the result.\n",
    "# Divide by two.\n",
    "\n",
    "import math\n",
    "def predict_age(*ages):\n",
    "    return math.floor(math.sqrt(sum(age ** 2 for age in ages)) / 2)\n",
    "\n",
    "# alternatively without importing math libary\n",
    "def predict_age(*ages):\n",
    "    return sum(age ** 2 for age in ages) ** .5 // 2"
   ]
  }
 ],
 "metadata": {
  "language_info": {
   "name": "python"
  },
  "orig_nbformat": 4
 },
 "nbformat": 4,
 "nbformat_minor": 2
}
