{
 "cells": [
  {
   "cell_type": "code",
   "execution_count": null,
   "metadata": {},
   "outputs": [],
   "source": [
    "# Find the sum of the odd numbers within an array, after cubing the initial integers. \n",
    "# The function should return undefined/None/nil/NULL if any of the values aren't numbers.\n",
    "# Note: Booleans should not be considered as numbers.\n",
    "\n",
    "# first attempt\n",
    "def cube_odd(arr):\n",
    "    res = []\n",
    "    for num in arr:\n",
    "        if type(num) == int:\n",
    "            res.append(num ** 3)\n",
    "        else:\n",
    "            return None\n",
    "        \n",
    "    return sum(x for x in res if x % 2)\n",
    "\n",
    "# one-liner solution using all() method\n",
    "def cube_odd(arr):\n",
    "    return sum(x ** 3 for x in arr if x % 2) if all(type(x) == int for x in arr) else None"
   ]
  }
 ],
 "metadata": {
  "language_info": {
   "name": "python"
  },
  "orig_nbformat": 4
 },
 "nbformat": 4,
 "nbformat_minor": 2
}
