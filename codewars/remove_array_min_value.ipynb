{
 "cells": [
  {
   "cell_type": "code",
   "execution_count": null,
   "metadata": {},
   "outputs": [],
   "source": [
    "# Given an array of integers, remove the smallest value. \n",
    "# Do not mutate the original array/list. \n",
    "# If there are multiple elements with the same value, remove the one with a lower index. \n",
    "# If you get an empty array/list, return an empty array/list.\n",
    "# Don't change the order of the elements that are left.\n",
    "\n",
    "def remove_smallest(nums):\n",
    "    if nums:\n",
    "        copy = nums.copy() # copy() returns shallow copy of given array so we do not mutate original list - we can also use copy = nums[:]\n",
    "        copy.remove(min(nums)) # note that if a list contains duplicate elements, the remove() method only removes the first matching element\n",
    "        return copy\n",
    "\n",
    "    return []"
   ]
  }
 ],
 "metadata": {
  "language_info": {
   "name": "python"
  },
  "orig_nbformat": 4
 },
 "nbformat": 4,
 "nbformat_minor": 2
}
