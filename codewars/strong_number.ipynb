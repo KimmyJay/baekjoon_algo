{
 "cells": [
  {
   "cell_type": "code",
   "execution_count": null,
   "metadata": {},
   "outputs": [],
   "source": [
    "# Strong number is the number that the sum of the factorial of its digits is equal to number itself.\n",
    "# For example, 145 is strong, since 1! + 4! + 5! = 1 + 24 + 120 = 145.\n",
    "# Write a function that checks whether or not a given number is a strong number.\n",
    "\n",
    "def ia_strong_number(num):\n",
    "    digits = list(map(int, str(num)))\n",
    "    fac_sum = 0\n",
    "\n",
    "    for digit in digits:\n",
    "        fac = 1\n",
    "        for i in range(1, digit+1):\n",
    "            fac *= i\n",
    "        fac_sum += fac\n",
    "    \n",
    "    return fac_sum == num\n"
   ]
  }
 ],
 "metadata": {
  "language_info": {
   "name": "python"
  },
  "orig_nbformat": 4
 },
 "nbformat": 4,
 "nbformat_minor": 2
}
