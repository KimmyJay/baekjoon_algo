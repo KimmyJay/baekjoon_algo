{
 "cells": [
  {
   "cell_type": "code",
   "execution_count": null,
   "metadata": {},
   "outputs": [],
   "source": [
    "# Delete occurrences of an element if it occurs more than n times\n",
    "\n",
    "# my solution\n",
    "# O(N^2) as we use a for loop as well as count() for each iteration\n",
    "def delete_nth(order,max_e):\n",
    "    result = []\n",
    "    for num in order:\n",
    "        if result.count(num) < max_e:\n",
    "            result.append(num)\n",
    "    \n",
    "    return result\n",
    "\n",
    "# more efficient solution utilizing dictionary to keep count\n",
    "# use get to get current count of a number instead of counting through whole list each iteration \n",
    "# 0(N)\n",
    "def delete_nth(order, max_e):\n",
    "    dic = {}\n",
    "    result = []\n",
    "    for num in order:\n",
    "      n = dic.get(num, 0)\n",
    "      if n < max_e:\n",
    "        result.append(num)\n",
    "        dic[num] = n+1\n",
    "    return result\n"
   ]
  }
 ],
 "metadata": {
  "language_info": {
   "name": "python"
  },
  "orig_nbformat": 4
 },
 "nbformat": 4,
 "nbformat_minor": 2
}
