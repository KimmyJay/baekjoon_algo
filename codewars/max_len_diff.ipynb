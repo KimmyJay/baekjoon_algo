{
 "cells": [
  {
   "cell_type": "code",
   "execution_count": null,
   "metadata": {},
   "outputs": [],
   "source": [
    "# You are given two arrays a1 and a2 of strings.\n",
    "# Let x be any string in the first array and y be any string in the second array.\n",
    "# Find max(abs(length(x) − length(y)))\n",
    "# If a1 and/or a2 are empty return -1\n",
    "\n",
    "\n",
    "# initial solution\n",
    "def max_len_diff(a1, a2):\n",
    "    if a1 == [] or a2 == []:\n",
    "        return -1\n",
    "    a1_lens = [len(x) for x in a1]\n",
    "    a2_lens = [len(y) for y in a2]\n",
    "    \n",
    "    return max(max(a1_lens) - min(a2_lens), max(a2_lens) - min(a1_lens))\n",
    "\n",
    "# more optimal solution\n",
    "# remember to take advantage of keys for max/min methods\n",
    "def max_len_diff(a1, a2):\n",
    "    if a1 and a2:\n",
    "        return max(\n",
    "            len(max(a1, key=len)) - len(min(a2, key=len)),\n",
    "            len(max(a2, key=len)) - len(min(a1, key=len)))\n",
    "    return -1"
   ]
  }
 ],
 "metadata": {
  "language_info": {
   "name": "python"
  },
  "orig_nbformat": 4
 },
 "nbformat": 4,
 "nbformat_minor": 2
}
