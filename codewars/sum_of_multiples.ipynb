{
 "cells": [
  {
   "cell_type": "code",
   "execution_count": null,
   "metadata": {},
   "outputs": [],
   "source": [
    "# Find the sum of all multiples of n below m\n",
    "\n",
    "def sum_mul(n, m):\n",
    "    if n > 0 and m > 0:\n",
    "        return sum(x for x in range(n, m) if x % n == 0)\n",
    "\n",
    "    return 'INVALID'\n",
    "\n",
    "# steps of n can be used to obtain multiples of n in a range\n",
    "def sum_mul(n, m):\n",
    "    return sum(x for x in range(n, m, n)) if n > 0 and m > 0 else 'INVALID'\n",
    "\n"
   ]
  }
 ],
 "metadata": {
  "language_info": {
   "name": "python"
  },
  "orig_nbformat": 4
 },
 "nbformat": 4,
 "nbformat_minor": 2
}
