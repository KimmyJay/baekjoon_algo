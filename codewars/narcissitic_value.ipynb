{
 "cells": [
  {
   "cell_type": "code",
   "execution_count": null,
   "metadata": {},
   "outputs": [],
   "source": [
    "def narcissistic( value ):\n",
    "    digits = list(map(int, str(value)))\n",
    "    sum = 0\n",
    "    for digit in digits:\n",
    "        sum += digit ** len(digits)\n",
    "    \n",
    "    return int(''.join(str(n) for n in digits)) == sum"
   ]
  }
 ],
 "metadata": {
  "language_info": {
   "name": "python"
  },
  "orig_nbformat": 4
 },
 "nbformat": 4,
 "nbformat_minor": 2
}
