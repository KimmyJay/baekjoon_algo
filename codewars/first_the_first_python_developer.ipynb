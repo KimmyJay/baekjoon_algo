{
 "cells": [
  {
   "cell_type": "code",
   "execution_count": null,
   "metadata": {},
   "outputs": [],
   "source": [
    "# You will be given an array of objects (associative arrays in PHP) representing data about developers \n",
    "# who have signed up to attend the next coding meetup that you are organising. \n",
    "# The list is ordered according to who signed up first.\n",
    "# Your task is to return one of the following strings:\n",
    "\n",
    "# < firstName here >, < country here > of the first Python developer who has signed up; or\n",
    "# There will be no Python developers if no Python developer has signed up.\n",
    "\n",
    "def get_first_python(users):\n",
    "    for user in users:\n",
    "        if user['language'] == 'Python':\n",
    "            first_name, country = user['first_name'], user['country']\n",
    "            return f'{first_name}, {country}' \n",
    "            break\n",
    "\n",
    "    return 'There will be no Python developers'"
   ]
  }
 ],
 "metadata": {
  "language_info": {
   "name": "python"
  },
  "orig_nbformat": 4
 },
 "nbformat": 4,
 "nbformat_minor": 2
}
