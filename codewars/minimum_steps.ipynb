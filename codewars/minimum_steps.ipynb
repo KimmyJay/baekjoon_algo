{
 "cells": [
  {
   "cell_type": "code",
   "execution_count": null,
   "metadata": {},
   "outputs": [],
   "source": [
    "# Given an array of integers, you have to find how many times you \n",
    "# have to add up the smallest numbers in the array until their sum \n",
    "# becomes greater or equal to k.\n",
    "\n",
    "def minimum_steps(numbers, k):\n",
    "    nums = sorted(numbers)\n",
    "    i = 0\n",
    "    while sum(nums[:i+1]) < k:\n",
    "        i += 1\n",
    "    \n",
    "    return i"
   ]
  }
 ],
 "metadata": {
  "language_info": {
   "name": "python"
  },
  "orig_nbformat": 4
 },
 "nbformat": 4,
 "nbformat_minor": 2
}
