{
 "cells": [
  {
   "cell_type": "code",
   "execution_count": null,
   "metadata": {},
   "outputs": [],
   "source": [
    "# Given a string, turn each character into its ASCII character code and join them together to create a number - let's call this number total1:\n",
    "# 'ABC' --> 'A' = 65, 'B' = 66, 'C' = 67 --> 656667\n",
    "# Then replace any incidence of the number 7 with the number 1, and call this number 'total2':\n",
    "\n",
    "# total1 = 656667\n",
    "# total2 = 656661\n",
    "# Then return the difference between the sum of the digits in total1 and total2:\n",
    "\n",
    "def calc(string):\n",
    "    total1 = ''\n",
    "    for char in string:\n",
    "        total1 += str(ord(char))\n",
    "    \n",
    "    total2 = total1.replace('7', '1')\n",
    "    \n",
    "    total_1_sum = sum(int(char) for char in total1)\n",
    "    total_2_sum = sum(int(char) for char in total2)\n",
    "    \n",
    "    return abs(total_1_sum - total_2_sum)\n",
    "    "
   ]
  }
 ],
 "metadata": {
  "language_info": {
   "name": "python"
  },
  "orig_nbformat": 4
 },
 "nbformat": 4,
 "nbformat_minor": 2
}
