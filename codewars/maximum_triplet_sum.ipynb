{
 "cells": [
  {
   "cell_type": "code",
   "execution_count": null,
   "metadata": {},
   "outputs": [],
   "source": [
    "# Given an array/list [] of n integers, find maximum triplet sum in the array without duplications .\n",
    "\n",
    "# Notes:\n",
    "# Array/list size is at least 3 .\n",
    "# Array/list numbers could be a mixture of positives, negatives and zeros.\n",
    "# Repetition of numbers in the array/list could occur, so duplications are not included when summing.\n",
    "\n",
    "# my attempt\n",
    "from itertools import combinations \n",
    "def max_tri_sum(numbers):\n",
    "    nums = set(numbers)\n",
    "    triplet_sums = []\n",
    "    combs = list(combinations(nums, 3))\n",
    "    \n",
    "    for comb in combs:\n",
    "        triplet_sums.append(sum(comb))\n",
    "    \n",
    "    return max(triplet_sums)\n",
    "\n",
    "# simple solution\n",
    "def max_tri_sum(numbers):\n",
    "    return sum(sorted(set(numbers))[-3:])"
   ]
  }
 ],
 "metadata": {
  "language_info": {
   "name": "python"
  },
  "orig_nbformat": 4
 },
 "nbformat": 4,
 "nbformat_minor": 2
}
