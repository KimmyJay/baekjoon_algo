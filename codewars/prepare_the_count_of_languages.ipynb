{
 "cells": [
  {
   "cell_type": "code",
   "execution_count": null,
   "metadata": {},
   "outputs": [],
   "source": [
    "# users = [\n",
    "#     { 'firstName': 'Noah', 'lastName': 'M.', 'country': 'Switzerland', 'continent': 'Europe', 'age': 19, 'language': 'C' },\n",
    "#     { 'firstName': 'Anna', 'lastName': 'R.', 'country': 'Liechtenstein', 'continent': 'Europe', 'age': 52, 'language': 'JavaScript' },\n",
    "#     { 'firstName': 'Ramon', 'lastName': 'R.', 'country': 'Paraguay', 'continent': 'Americas', 'age': 29, 'language': 'Ruby' },\n",
    "#     { 'firstName': 'George', 'lastName': 'B.', 'country': 'England', 'continent': 'Europe', 'age': 81, 'language': 'C' },\n",
    "#     ]\n",
    "# your function should return the following object:\n",
    "# { 'C': 2, 'JavaScript': 1, 'Ruby': 1 }\n",
    "\n",
    "# my attempt\n",
    "def count_languages(users): \n",
    "    count = {}\n",
    "    for user in users:\n",
    "        if user['language'] not in count:\n",
    "            count[user['language']] = 1\n",
    "        else:\n",
    "            count[user['language']] += 1\n",
    "    \n",
    "    return count\n",
    "\n",
    "# one-liner solution using Counter\n",
    "from collections import Counter\n",
    "def count_languages(users): \n",
    "    return Counter(user['language'] for user in users)"
   ]
  }
 ],
 "metadata": {
  "language_info": {
   "name": "python"
  },
  "orig_nbformat": 4
 },
 "nbformat": 4,
 "nbformat_minor": 2
}
