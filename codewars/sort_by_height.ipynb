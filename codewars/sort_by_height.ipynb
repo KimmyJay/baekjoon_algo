{
 "cells": [
  {
   "cell_type": "code",
   "execution_count": null,
   "metadata": {},
   "outputs": [],
   "source": [
    "# Some people are standing in a row in a park. There are trees between them which cannot be moved.\n",
    "# Your task is to rearrange the people by their heights in a non-descending order without moving the trees.\n",
    "# Example\n",
    "# [-1, 150, 190, 170, -1, -1, 160, 180] --> [-1, 150, 160, 170, -1, -1, 180, 190].\n",
    "\n",
    "# first attempt\n",
    "def sort_by_height(arr):\n",
    "    heights = sorted((filter(lambda x: x > 0, arr)))\n",
    "    j = 0\n",
    "    \n",
    "    for i in range(len(arr)):\n",
    "        if arr[i] == -1:\n",
    "            continue\n",
    "        else:\n",
    "            arr[i] = heights[j]\n",
    "            j += 1\n",
    "    \n",
    "    return arr\n",
    "\n",
    "# using iter() method and next() method\n",
    "def sort_by_height(arr):\n",
    "    heights = iter(sorted((filter(lambda x: x != -1, arr))))\n",
    "    return [x if x == -1 else next(heights) for x in arr]"
   ]
  }
 ],
 "metadata": {
  "language_info": {
   "name": "python"
  },
  "orig_nbformat": 4
 },
 "nbformat": 4,
 "nbformat_minor": 2
}
