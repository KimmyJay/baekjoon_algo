{
 "cells": [
  {
   "cell_type": "code",
   "execution_count": null,
   "metadata": {},
   "outputs": [],
   "source": [
    "# Implement a function, multiples(m, n), which returns an array of the \n",
    "# first m multiples of the real number n. Assume that m is a positive integer.\n",
    "\n",
    "def multiples(m, n):\n",
    "    return [(i+1) * n for i in range(m)]"
   ]
  }
 ],
 "metadata": {
  "language_info": {
   "name": "python"
  },
  "orig_nbformat": 4
 },
 "nbformat": 4,
 "nbformat_minor": 2
}
