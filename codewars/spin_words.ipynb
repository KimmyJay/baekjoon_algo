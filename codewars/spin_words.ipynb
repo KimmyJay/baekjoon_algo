{
 "cells": [
  {
   "cell_type": "code",
   "execution_count": null,
   "metadata": {},
   "outputs": [],
   "source": [
    "# Write a function that takes in a string of one or more words, and returns the same string, \n",
    "# but with all five or more letter words reversed (Just like the name of this Kata). Strings \n",
    "# passed in will consist of only letters and spaces. Spaces will be included only when more \n",
    "# than one word is present.\n",
    "\n",
    "def spin_words(sentence):\n",
    "    words = sentence.split()\n",
    "    result = []\n",
    "    \n",
    "    for word in words:\n",
    "        if len(word) >= 5:\n",
    "            result.append(word[::-1])\n",
    "        else:\n",
    "            result.append(word)\n",
    "            \n",
    "    return ' '.join(result)"
   ]
  }
 ],
 "metadata": {
  "language_info": {
   "name": "python"
  },
  "orig_nbformat": 4
 },
 "nbformat": 4,
 "nbformat_minor": 2
}
