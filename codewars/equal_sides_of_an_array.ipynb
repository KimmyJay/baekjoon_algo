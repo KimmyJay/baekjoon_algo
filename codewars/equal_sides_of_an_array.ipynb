{
 "cells": [
  {
   "cell_type": "code",
   "execution_count": null,
   "metadata": {},
   "outputs": [],
   "source": [
    "# You are going to be given an array of integers. Your job is to take that array \n",
    "# and find an index N where the sum of the integers to the left of N is equal \n",
    "# to the sum of the integers to the right of N. If there is no index that would \n",
    "# make this happen, return -1.\n",
    "\n",
    "def find_even_index(arr):\n",
    "    for i in range(len(arr)):\n",
    "        if sum(arr[:i]) == sum(arr[i+1:]):\n",
    "            return i\n",
    "        \n",
    "    return -1"
   ]
  }
 ],
 "metadata": {
  "language_info": {
   "name": "python"
  },
  "orig_nbformat": 4
 },
 "nbformat": 4,
 "nbformat_minor": 2
}
