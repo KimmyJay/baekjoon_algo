{
 "cells": [
  {
   "cell_type": "code",
   "execution_count": null,
   "metadata": {},
   "outputs": [],
   "source": [
    "# A pangram is a sentence that contains every single letter of the alphabet at least once. \n",
    "# For example, the sentence \"The quick brown fox jumps over the lazy dog\" is a pangram, because it uses the letters A-Z at least once (case is irrelevant).\n",
    "# Given a string, detect whether or not it is a pangram. Return True if it is, False if not. Ignore numbers and punctuation.\n",
    "\n",
    "def is_pangram(s):\n",
    "    alphas = [char for char in 'abcdefghijklmnopqrstuvwxyz']\n",
    "    \n",
    "    for char in s.lower():\n",
    "        if char in alphas:\n",
    "            alphas.remove(char)\n",
    "\n",
    "    if alphas:\n",
    "        return False\n",
    "\n",
    "    return True"
   ]
  }
 ],
 "metadata": {
  "language_info": {
   "name": "python"
  },
  "orig_nbformat": 4
 },
 "nbformat": 4,
 "nbformat_minor": 2
}
