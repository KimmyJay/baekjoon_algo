{
 "cells": [
  {
   "cell_type": "code",
   "execution_count": null,
   "metadata": {},
   "outputs": [],
   "source": [
    "# Given an array/list [] of integers, construct a product array of same size \n",
    "# such That prod[i] is equal to the Ppoduct of all the elements of Arr[] except Arr[i].\n",
    "\n",
    "# Array/list size is at least 2 .\n",
    "# Array/list's numbers Will be only Positives\n",
    "# Repetition of numbers in the array/list could occur.\n",
    "\n",
    "from math import prod\n",
    "def product_array(nums):\n",
    "    copy = nums.copy()\n",
    "\n",
    "    for i in range(len(nums)):\n",
    "        copy[i] = prod(nums[i+1:]) * prod(nums[:i])\n",
    "    \n",
    "    return copy"
   ]
  }
 ],
 "metadata": {
  "language_info": {
   "name": "python"
  },
  "orig_nbformat": 4
 },
 "nbformat": 4,
 "nbformat_minor": 2
}
