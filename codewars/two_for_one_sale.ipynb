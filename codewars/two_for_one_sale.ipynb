{
 "cells": [
  {
   "cell_type": "code",
   "execution_count": null,
   "metadata": {},
   "outputs": [],
   "source": [
    "# There's a \"3 for 2\" (or \"2+1\" if you like) offer on mangoes. \n",
    "# For a given quantity and price (per mango), calculate the total cost of the mangoes.\n",
    "\n",
    "def mango(quantity, price):\n",
    "    remainder = quantity % 3\n",
    "    bundles = quantity // 3\n",
    "    return bundles * price * 2 + remainder * price"
   ]
  }
 ],
 "metadata": {
  "language_info": {
   "name": "python"
  },
  "orig_nbformat": 4
 },
 "nbformat": 4,
 "nbformat_minor": 2
}
