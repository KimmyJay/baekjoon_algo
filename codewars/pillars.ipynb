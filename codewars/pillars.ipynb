{
 "cells": [
  {
   "cell_type": "code",
   "execution_count": null,
   "metadata": {},
   "outputs": [],
   "source": [
    "# There are pillars near the road. The distance between the pillars is the same and the width of the pillars is the same. Your function accepts three arguments:\n",
    "\n",
    "# number of pillars (≥ 1);\n",
    "# distance between pillars (10 - 30 meters);\n",
    "# width of the pillar (10 - 50 centimeters).\n",
    "# Calculate the distance between the first and the last pillar in centimeters (without the width of the first and last pillar).\n",
    "\n",
    "def pillars(num_pill, dist, width):\n",
    "    if num_pill > 1:\n",
    "        return (num_pill - 1) * dist * 100 + (num_pill - 2) * width\n",
    "    \n",
    "    return 0"
   ]
  }
 ],
 "metadata": {
  "language_info": {
   "name": "python"
  },
  "orig_nbformat": 4
 },
 "nbformat": 4,
 "nbformat_minor": 2
}
