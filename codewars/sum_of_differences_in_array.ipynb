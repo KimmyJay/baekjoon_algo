{
 "cells": [
  {
   "cell_type": "code",
   "execution_count": null,
   "metadata": {},
   "outputs": [],
   "source": [
    "# Your task is to sum the differences between consecutive pairs in the array in descending order.\n",
    "# For example:\n",
    "# [2, 1, 10]  -->  9\n",
    "\n",
    "def sum_of_differences(arr):\n",
    "    arr.sort(reverse=True) # sort array in descending order\n",
    "    sums = []\n",
    "    for i in range(len(arr)-1):\n",
    "        sums.append(abs(arr[i]-arr[i+1]))\n",
    "    \n",
    "    return sum(sums)\n",
    "\n",
    "# more optimal solution\n",
    "def sum_of_differences(arr):\n",
    "    return max(arr) - min(arr) if arr else 0"
   ]
  }
 ],
 "metadata": {
  "language_info": {
   "name": "python"
  },
  "orig_nbformat": 4
 },
 "nbformat": 4,
 "nbformat_minor": 2
}
