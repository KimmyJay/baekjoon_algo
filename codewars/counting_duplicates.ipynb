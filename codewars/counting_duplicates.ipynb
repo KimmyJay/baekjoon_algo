{
 "cells": [
  {
   "cell_type": "code",
   "execution_count": null,
   "metadata": {},
   "outputs": [],
   "source": [
    "# Write a function that will return the count of distinct case-insensitive \n",
    "# alphabetic characters and numeric digits that occur more than once in the input string. \n",
    "# The input string can be assumed to contain only alphabets (both uppercase and lowercase) and numeric digits.\n",
    "\n",
    "# first attempt\n",
    "def duplicate_count(text):\n",
    "    dic = {}\n",
    "    for char in text.lower():\n",
    "        if not char in dic:\n",
    "            dic[char] = 1\n",
    "        else:\n",
    "            dic[char] += 1\n",
    "    \n",
    "    return len([x for x in dic.values() if x > 1])"
   ]
  }
 ],
 "metadata": {
  "language_info": {
   "name": "python"
  },
  "orig_nbformat": 4
 },
 "nbformat": 4,
 "nbformat_minor": 2
}
