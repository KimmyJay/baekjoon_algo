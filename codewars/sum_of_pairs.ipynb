{
 "cells": [
  {
   "cell_type": "code",
   "execution_count": null,
   "metadata": {},
   "outputs": [],
   "source": [
    "# Given a list of integers and a single sum value, return the first two values \n",
    "# (parse from the left please) in order of appearance that add up to form the sum.\n",
    "\n",
    "def sum_pairs(nums, target):\n",
    "    cache = set()\n",
    "    for num in nums:\n",
    "        complement = target - num\n",
    "        if complement in cache:\n",
    "            return [complement, num]\n",
    "        cache.add(num)"
   ]
  }
 ],
 "metadata": {
  "language_info": {
   "name": "python"
  },
  "orig_nbformat": 4
 },
 "nbformat": 4,
 "nbformat_minor": 2
}
