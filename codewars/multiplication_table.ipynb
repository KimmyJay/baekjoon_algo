{
 "cells": [
  {
   "cell_type": "code",
   "execution_count": null,
   "metadata": {},
   "outputs": [],
   "source": [
    "# Your goal is to return multiplication table for number that is always an integer from 1 to 10.\n",
    "\n",
    "def multi_table(number):\n",
    "    lines = []\n",
    "    for i in range(1, 11):\n",
    "        lines.append(f\"{i} * {number} = {i*number}\")\n",
    "    \n",
    "    return '\\n'.join(lines)"
   ]
  }
 ],
 "metadata": {
  "language_info": {
   "name": "python"
  },
  "orig_nbformat": 4
 },
 "nbformat": 4,
 "nbformat_minor": 2
}
