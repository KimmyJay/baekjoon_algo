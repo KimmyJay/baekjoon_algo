{
 "cells": [
  {
   "cell_type": "code",
   "execution_count": null,
   "metadata": {},
   "outputs": [],
   "source": [
    "# A number is called automorphic number if and only if its square ends in the same digits as the number itself.\n",
    "# Given a number, determine if it is automorphic or not.\n",
    "\n",
    "def is_automorphic_number(num):\n",
    "    return str(num**2).endswith(str(num))"
   ]
  }
 ],
 "metadata": {
  "language_info": {
   "name": "python"
  },
  "orig_nbformat": 4
 },
 "nbformat": 4,
 "nbformat_minor": 2
}
