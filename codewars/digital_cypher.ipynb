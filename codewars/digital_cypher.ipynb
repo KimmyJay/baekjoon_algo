{
 "cells": [
  {
   "cell_type": "code",
   "execution_count": null,
   "metadata": {},
   "outputs": [],
   "source": [
    "# Write a function that firstly converts each letter of a given string to its alphabetical index\n",
    "# then add to each obtained index the consecutive digits from the given key\n",
    "\n",
    "# first attempt\n",
    "def encode(message, key):\n",
    "    digits = []\n",
    "    for char in message:\n",
    "        digits.append(ord(char)-96)\n",
    "    \n",
    "    j = 0\n",
    "    keys = str(key)\n",
    "    for i in range(len(digits)):\n",
    "        digits[i] += int(keys[j])\n",
    "        j += 1\n",
    "        if j >= len(keys): # reset key index to 0 if we reach end of key\n",
    "            j = 0\n",
    "    \n",
    "    return digits\n",
    "\n",
    "# using itertools and zip()\n",
    "from itertools import cycle\n",
    "def encode(message, key):\n",
    "    return [ord(a) - 96 + int(b) for a, b in zip(message, cycle(str(key)))]"
   ]
  }
 ],
 "metadata": {
  "language_info": {
   "name": "python"
  },
  "orig_nbformat": 4
 },
 "nbformat": 4,
 "nbformat_minor": 2
}
