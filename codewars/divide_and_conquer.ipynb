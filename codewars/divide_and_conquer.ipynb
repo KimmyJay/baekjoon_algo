{
 "cells": [
  {
   "cell_type": "code",
   "execution_count": null,
   "metadata": {},
   "outputs": [],
   "source": [
    "# Given a mixed array of number and string representations of integers, \n",
    "# add up the string integers and subtract this from the total of the non-string integers.\n",
    "# Return as a number.\n",
    "\n",
    "def div_con(arr):\n",
    "    string_int_sum = 0\n",
    "    int_sum = 0\n",
    "    for num in arr:\n",
    "        try:\n",
    "            int_sum += num\n",
    "        except TypeError:\n",
    "            string_int_sum += int(num)\n",
    "    \n",
    "    return int_sum - string_int_sum\n",
    "\n",
    "# we can make use of isinstance(obj, class) method\n",
    "def div_con(arr):\n",
    "    return sum(num if isinstance(num, int) else - int(num) for num in arr)"
   ]
  }
 ],
 "metadata": {
  "language_info": {
   "name": "python"
  },
  "orig_nbformat": 4
 },
 "nbformat": 4,
 "nbformat_minor": 2
}
