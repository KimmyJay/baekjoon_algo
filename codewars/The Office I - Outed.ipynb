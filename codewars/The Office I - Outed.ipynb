{
 "cells": [
  {
   "cell_type": "code",
   "execution_count": null,
   "metadata": {},
   "outputs": [],
   "source": [
    "# Given a dictionary(meet) containing team member names as keys, and their happiness rating out of 10 as the value, \n",
    "# you need to assess the average happiness rating of the group. \n",
    "# If avg <= 5, return 'Get Out Now!'. Else return 'Nice Work Champ!'.\n",
    "# Note that your boss is in the room (boss), their score is worth double it's face value\n",
    "\n",
    "def outed(meet, boss):\n",
    "    total = sum(score * 2 if person == boss else score for person, score in meet.items())\n",
    "   \n",
    "    return 'Get Out Now!' if total / len(meet) <= 5.0 else 'Nice Work Champ!'\n",
    "        "
   ]
  }
 ],
 "metadata": {
  "language_info": {
   "name": "python"
  },
  "orig_nbformat": 4
 },
 "nbformat": 4,
 "nbformat_minor": 2
}
