{
 "cells": [
  {
   "cell_type": "code",
   "execution_count": null,
   "metadata": {},
   "outputs": [],
   "source": [
    "# ake 2 strings s1 and s2 including only letters from a to z. \n",
    "# Return a new sorted string, the longest possible, containing \n",
    "# distinct letters - each taken only once - coming from s1 or s2.\n",
    "\n",
    "# my attempt\n",
    "def longest(a1, a2):\n",
    "    a1_chars = list(a1)\n",
    "    a2_chars = list(a2)\n",
    "    return ''.join(sorted(set(a1_chars + a2_chars)))\n",
    "\n",
    "# we do need to convert the strings to a set is considered an iterable, \n",
    "# and will be passed through the sorted() method to return a list\n",
    "    a1_chars = list(a1)\n",
    "    a2_chars = list(a2)\n",
    "    return ''.join(sorted(set(a1_chars | a2_chars)))"
   ]
  }
 ],
 "metadata": {
  "language_info": {
   "name": "python"
  },
  "orig_nbformat": 4
 },
 "nbformat": 4,
 "nbformat_minor": 2
}
