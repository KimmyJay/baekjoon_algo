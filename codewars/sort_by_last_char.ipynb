{
 "cells": [
  {
   "cell_type": "code",
   "execution_count": null,
   "metadata": {},
   "outputs": [],
   "source": [
    "# Given a string of words (x), you need to return an array of the words, sorted alphabetically by the final character in each.\n",
    "# If two words have the same last letter, they returned array should show them in the order they appeared in the given string.\n",
    "# All inputs will be valid.\n",
    "\n",
    "def sort_by_last(sentence):\n",
    "    words = sentence.split()\n",
    "    return sorted(words, key=lambda word: word[-1])"
   ]
  }
 ],
 "metadata": {
  "language_info": {
   "name": "python"
  },
  "orig_nbformat": 4
 },
 "nbformat": 4,
 "nbformat_minor": 2
}
