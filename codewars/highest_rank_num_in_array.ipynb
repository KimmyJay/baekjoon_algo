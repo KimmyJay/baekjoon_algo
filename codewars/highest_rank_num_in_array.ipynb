{
 "cells": [
  {
   "cell_type": "code",
   "execution_count": null,
   "metadata": {},
   "outputs": [],
   "source": [
    "# Write a function which returns the number which is most frequent in the given input array. \n",
    "# If there is a tie for most frequent number, return the largest number among them.\n",
    "\n",
    "# Note: no empty arrays will be given.\n",
    "\n",
    "from collections import Counter\n",
    "def highest_rank(arr):\n",
    "    c = Counter(arr) # obtain counter dic where k, v = distinct num in arr, count\n",
    "    max_freq = max(c.values()) # retreive max frequency\n",
    "    return max(k for k, v in c.items() if v == max_freq) #retreive largest number whose count == max_freq\n",
    "\n",
    "# alternatively\n",
    "def highest_rank(arr):\n",
    "    return max(sorted(arr,reverse=True), key=arr.count)"
   ]
  }
 ],
 "metadata": {
  "language_info": {
   "name": "python"
  },
  "orig_nbformat": 4
 },
 "nbformat": 4,
 "nbformat_minor": 2
}
