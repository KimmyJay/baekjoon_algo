{
 "cells": [
  {
   "cell_type": "code",
   "execution_count": null,
   "metadata": {},
   "outputs": [],
   "source": [
    "# Jumping number is the number that all adjacent digits in it differ by 1.\n",
    "# Given a number, Find if it is Jumping or not.\n",
    "\n",
    "def is_jumping_number(num):\n",
    "    digits = list(map(int, str(num)))\n",
    "    for i in range(1, len(digits)):\n",
    "        if abs(digits[i] - digits[i-1]) != 1 :\n",
    "            return False\n",
    "    \n",
    "    return True"
   ]
  }
 ],
 "metadata": {
  "language_info": {
   "name": "python"
  },
  "orig_nbformat": 4
 },
 "nbformat": 4,
 "nbformat_minor": 2
}
