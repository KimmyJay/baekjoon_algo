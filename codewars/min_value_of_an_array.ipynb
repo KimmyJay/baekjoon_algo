{
 "cells": [
  {
   "cell_type": "code",
   "execution_count": null,
   "metadata": {},
   "outputs": [],
   "source": [
    "# Write a function that can return the smallest value of an array or the index of that value. \n",
    "# The function's 2nd parameter will tell whether it should return the value or the index.\n",
    "\n",
    "def find_smallest(nums, to_return):\n",
    "    return min(nums) if to_return == 'value' else nums.index(min(nums))"
   ]
  }
 ],
 "metadata": {
  "language_info": {
   "name": "python"
  },
  "orig_nbformat": 4
 },
 "nbformat": 4,
 "nbformat_minor": 2
}
