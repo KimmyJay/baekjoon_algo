{
 "cells": [
  {
   "cell_type": "code",
   "execution_count": null,
   "metadata": {},
   "outputs": [],
   "source": [
    "# Input\n",
    "# the list of game characters in a 2x6 grid;\n",
    "# the initial position of the selection cursor (top-left is (0, 0));\n",
    "# a list of moves of the selection cursor (which are up, down, left, right);\n",
    "\n",
    "# Output\n",
    "# the list of characters who have been hovered by the selection cursor after all the moves \n",
    "# (ordered and with repetition, all the ones after a move, whether successful or not, see tests);\n",
    "\n",
    "# Rules\n",
    "# Selection cursor is circular horizontally but not vertically!\n",
    "\n",
    "def street_fighter_selection(fighters, initial_position, moves):\n",
    "    x_pos = initial_position[1]\n",
    "    y_pos = initial_position[0]\n",
    "    hovered = []\n",
    "    for move in moves:\n",
    "        if move == 'left':\n",
    "            if x_pos == 0: # if at left border\n",
    "                x_pos = len(fighters[0])-1 # reset to right border\n",
    "            else:\n",
    "                x_pos -= 1\n",
    "            hovered.append(fighters[y_pos][x_pos])\n",
    "            \n",
    "        if move == 'right':\n",
    "            if x_pos == len(fighters[0])-1: # if at right border\n",
    "                x_pos = 0 # reset to left border\n",
    "            else:\n",
    "                x_pos += 1\n",
    "            hovered.append(fighters[y_pos][x_pos])\n",
    "\n",
    "        if move == 'up':\n",
    "            if y_pos == 0: # if at top\n",
    "                pass\n",
    "            else:\n",
    "                y_pos -= 1\n",
    "            hovered.append(fighters[y_pos][x_pos])\n",
    "\n",
    "        if move == 'down':\n",
    "            if y_pos == 1: # if at bottom\n",
    "                pass\n",
    "            else:\n",
    "                y_pos += 1\n",
    "            hovered.append(fighters[y_pos][x_pos])\n",
    "    \n",
    "    return hovered"
   ]
  }
 ],
 "metadata": {
  "language_info": {
   "name": "python"
  },
  "orig_nbformat": 4
 },
 "nbformat": 4,
 "nbformat_minor": 2
}
