{
 "cells": [
  {
   "cell_type": "code",
   "execution_count": null,
   "metadata": {},
   "outputs": [],
   "source": [
    "# The vowel substrings in the word codewarriors are o,e,a,io. \n",
    "# The longest of these has a length of 2. Given a lowercase string that has alphabetic characters \n",
    "# only (both vowels and consonants) and no spaces, return the length of the longest vowel substring. \n",
    "# Vowels are any of aeiou.\n",
    "\n",
    "# first attempt\n",
    "def solve(s):\n",
    "    chars = list(s)\n",
    "    for i in range(len(chars)):\n",
    "        if not chars[i] in 'aeiou':\n",
    "            chars[i] = ' '\n",
    "    \n",
    "    vowel_chunks = ''.join(chars).split()\n",
    "    \n",
    "    return max(len(x) for x in vowel_chunks)\n",
    "\n",
    "# zach's solution\n",
    "def solve(s):\n",
    "    best = 0\n",
    "    curr = 0\n",
    "    streak = True\n",
    "    for char in s:\n",
    "        if char not in 'aeiou': \n",
    "            streak = False\n",
    "            best = max(best, curr)\n",
    "        elif streak == True: \n",
    "            curr += 1\n",
    "        else: \n",
    "            curr = 1\n",
    "            streak = True\n",
    "    \n",
    "    return best"
   ]
  }
 ],
 "metadata": {
  "language_info": {
   "name": "python"
  },
  "orig_nbformat": 4
 },
 "nbformat": 4,
 "nbformat_minor": 2
}
