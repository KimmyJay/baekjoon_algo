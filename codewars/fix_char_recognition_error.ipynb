{
 "cells": [
  {
   "cell_type": "code",
   "execution_count": null,
   "metadata": {},
   "outputs": [],
   "source": [
    "# Your task is correct the errors in the digitised text. You only have to handle the following mistakes:\n",
    "\n",
    "# S is misinterpreted as 5\n",
    "# O is misinterpreted as 0\n",
    "# I is misinterpreted as 1\n",
    "\n",
    "# my solution\n",
    "def correct(s):\n",
    "    chars = list(s)\n",
    "    for i in range (len(chars)):\n",
    "        if chars[i] == '5':\n",
    "            chars[i] = 'S'\n",
    "        if chars[i] == '0':\n",
    "            chars[i] = 'O'\n",
    "        if chars[i] == '1':\n",
    "            chars[i] = 'I'\n",
    "    \n",
    "    return ''.join(chars)\n",
    "\n",
    "# we can utiliize translate() method\n",
    "def correct(string):\n",
    "    return string.translate(str.maketrans(\"501\", \"SOI\"))"
   ]
  }
 ],
 "metadata": {
  "language_info": {
   "name": "python"
  },
  "orig_nbformat": 4
 },
 "nbformat": 4,
 "nbformat_minor": 2
}
