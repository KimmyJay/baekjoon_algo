{
 "cells": [
  {
   "cell_type": "code",
   "execution_count": null,
   "metadata": {},
   "outputs": [],
   "source": [
    "# Basic regex tasks. Write a function that takes in a numeric code of any length.\n",
    "# The function should check if the code begins with 1, 2, or 3 and return true if so. Return false otherwise.\n",
    "# You can assume the input will always be a number.\n",
    "\n",
    "def validate_code(code):\n",
    "    return str(code).startswith(('1', '2', '3'))\n",
    "\n",
    "def validate_code(code):\n",
    "    return str(code)[0] in '123'\n",
    "\n",
    "import re\n",
    "def validate_code(code):\n",
    "    return bool(re.match('[123]', str(code)))\n",
    "\n",
    "# Note that:\n",
    "# re.match() looks at the beginning of the string\n",
    "# re.search() looks anywhere in the string "
   ]
  }
 ],
 "metadata": {
  "language_info": {
   "name": "python"
  },
  "orig_nbformat": 4
 },
 "nbformat": 4,
 "nbformat_minor": 2
}
