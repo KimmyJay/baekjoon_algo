{
 "cells": [
  {
   "cell_type": "code",
   "execution_count": null,
   "metadata": {},
   "outputs": [],
   "source": [
    "def xbonacci(signature, n):\n",
    "    x = len(signature)\n",
    "    res = signature[:n]\n",
    "    \n",
    "    for i in range(x, n):\n",
    "        res.append(sum(res[-x:]))\n",
    "        \n",
    "    return res"
   ]
  }
 ],
 "metadata": {
  "language_info": {
   "name": "python"
  },
  "orig_nbformat": 4
 },
 "nbformat": 4,
 "nbformat_minor": 2
}
