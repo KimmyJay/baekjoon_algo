{
 "cells": [
  {
   "cell_type": "code",
   "execution_count": null,
   "metadata": {},
   "outputs": [],
   "source": [
    "# Complete the function that returns an array of length n, starting with the given number x and the squares of the previous number. \n",
    "# If n is negative or zero, return an empty array/list.\n",
    "\n",
    "# Examples\n",
    "# 2, 5  -->  [2, 4, 16, 256, 65536]\n",
    "# 3, 3  -->  [3, 9, 81]\n",
    "\n",
    "# first attempt\n",
    "def squares(x, n):\n",
    "    if n > 0:\n",
    "        i = 1\n",
    "        res = [x]\n",
    "        while i < n:\n",
    "            res.append(res[-1] ** 2)\n",
    "            i += 1\n",
    "            \n",
    "        return res\n",
    "    \n",
    "    return []\n",
    "\n",
    "# one-liner solution\n",
    "def squares(x,n):\n",
    "    return [x**(2**i) for i in range(n)]"
   ]
  }
 ],
 "metadata": {
  "language_info": {
   "name": "python"
  },
  "orig_nbformat": 4
 },
 "nbformat": 4,
 "nbformat_minor": 2
}
