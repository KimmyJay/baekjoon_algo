{
 "cells": [
  {
   "cell_type": "code",
   "execution_count": null,
   "metadata": {},
   "outputs": [],
   "source": [
    "import math\n",
    "def dating_range(age):\n",
    "    if age <= 14:\n",
    "        min_age = math.floor(age - 0.10 * age)\n",
    "        max_age = math.floor(age + 0.10 * age)\n",
    "    else:\n",
    "        min_age = math.floor(age/2+7)\n",
    "        max_age = (age-7) * 2\n",
    "        \n",
    "    return f\"{min_age}-{max_age}\""
   ]
  }
 ],
 "metadata": {
  "language_info": {
   "name": "python"
  },
  "orig_nbformat": 4
 },
 "nbformat": 4,
 "nbformat_minor": 2
}
