{
 "cells": [
  {
   "cell_type": "code",
   "execution_count": null,
   "metadata": {},
   "outputs": [],
   "source": [
    "# Write function alternateCase which switch every letter in string from \n",
    "# upper to lower and from lower to upper. E.g: Hello World -> hELLO wORLD\n",
    "\n",
    "# using list comprehension\n",
    "def alternate_case(s):\n",
    "    return ''.join(char.upper() if char.islower() else char.lower() for char in s)\n",
    "\n",
    "# using built-in function\n",
    "def alternateCase(s):\n",
    "    return s.swapcase()"
   ]
  }
 ],
 "metadata": {
  "language_info": {
   "name": "python"
  },
  "orig_nbformat": 4
 },
 "nbformat": 4,
 "nbformat_minor": 2
}
