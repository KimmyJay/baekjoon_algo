{
 "cells": [
  {
   "cell_type": "code",
   "execution_count": null,
   "metadata": {},
   "outputs": [],
   "source": [
    "# return the middle character of the word. \n",
    "# If the word's length is odd, return the middle character. \n",
    "# If the word's length is even, return the middle 2 characters.\n",
    "\n",
    "def get_middle(s):\n",
    "    mid = len(s) // 2\n",
    "    if len(s) % 2 == 0: \n",
    "        return s[mid-1] + s[mid]\n",
    "    return s[mid]"
   ]
  }
 ],
 "metadata": {
  "language_info": {
   "name": "python"
  },
  "orig_nbformat": 4
 },
 "nbformat": 4,
 "nbformat_minor": 2
}
