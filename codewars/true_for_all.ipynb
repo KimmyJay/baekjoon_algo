{
 "cells": [
  {
   "cell_type": "code",
   "execution_count": null,
   "metadata": {},
   "outputs": [],
   "source": [
    "# Create a method all which takes two params: a sequence and a function \n",
    "# and returns true if the function in the params returns true for every element in the sequence. \n",
    "\n",
    "# all((1, 2, 3, 4, 5), greater_than_9) -> false\n",
    "# all((1, 2, 3, 4, 5), less_than_9)    -> True\n",
    "\n",
    "# my attempt\n",
    "def _all(seq, fun): \n",
    "    return list(filter(fun, seq)) == list(seq)\n",
    "\n",
    "# using built-in all()\n",
    "def _all(seq, fun): \n",
    "    return all(map(fun,seq))"
   ]
  }
 ],
 "metadata": {
  "language_info": {
   "name": "python"
  },
  "orig_nbformat": 4
 },
 "nbformat": 4,
 "nbformat_minor": 2
}
