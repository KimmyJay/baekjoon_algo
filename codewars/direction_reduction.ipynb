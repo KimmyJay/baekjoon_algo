{
 "cells": [
  {
   "cell_type": "code",
   "execution_count": null,
   "metadata": {},
   "outputs": [],
   "source": [
    "# given a array of directions, return a reduced array\n",
    "# where no direction is preceded by an opposite direction\n",
    "\n",
    "opposite = {'NORTH': 'SOUTH', 'EAST': 'WEST', 'SOUTH': 'NORTH', 'WEST': 'EAST'}\n",
    "\n",
    "def reduce_direction(directions):\n",
    "    new_directions = []\n",
    "    for direction in directions:\n",
    "        # if the last direction is the opposite direction of the current direction\n",
    "        if new_directions and new_directions[-1] == opposite[direction]: \n",
    "            new_directions.pop() # remove the last direction\n",
    "        else:\n",
    "            new_directions.append(direction)\n",
    "    return new_directions"
   ]
  }
 ],
 "metadata": {
  "interpreter": {
   "hash": "7e1998ff7f8aa20ada591c520b972326324e5ea05489af9e422744c7c09f6dad"
  },
  "kernelspec": {
   "display_name": "Python 3.10.2 64-bit",
   "language": "python",
   "name": "python3"
  },
  "language_info": {
   "codemirror_mode": {
    "name": "ipython",
    "version": 3
   },
   "file_extension": ".py",
   "mimetype": "text/x-python",
   "name": "python",
   "nbconvert_exporter": "python",
   "pygments_lexer": "ipython3",
   "version": "3.10.2"
  },
  "orig_nbformat": 4
 },
 "nbformat": 4,
 "nbformat_minor": 2
}
