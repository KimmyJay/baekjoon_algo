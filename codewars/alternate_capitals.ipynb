{
 "cells": [
  {
   "cell_type": "code",
   "execution_count": null,
   "metadata": {},
   "outputs": [],
   "source": [
    "# Given a string, capitalize the letters that occupy even indexes and odd \n",
    "# indexes separately, and return as shown below. Index 0 will be considered even.\n",
    "\n",
    "# For example, capitalize(\"abcdef\") = ['AbCdEf', 'aBcDeF']\n",
    "\n",
    "# my attempt\n",
    "def capitalize(s):\n",
    "    chars = list(s)\n",
    "    even_capitals = chars.copy()\n",
    "    odd_capitals = chars.copy()\n",
    "    for i in range(len(chars)):\n",
    "        if i % 2 == 0:\n",
    "            even_capitals[i] = even_capitals[i].upper()\n",
    "        else:\n",
    "            odd_capitals[i] = odd_capitals[i].upper()\n",
    "\n",
    "    return [''.join(even_capitals), ''.join(odd_capitals)]\n",
    "\n",
    "# more optimal solution\n",
    "def capitalize(s):\n",
    "    s = ''.join(c if i%2 else c.upper() for i,c in enumerate(s))\n",
    "    return [s, s.swapcase()]"
   ]
  }
 ],
 "metadata": {
  "language_info": {
   "name": "python"
  },
  "orig_nbformat": 4
 },
 "nbformat": 4,
 "nbformat_minor": 2
}
