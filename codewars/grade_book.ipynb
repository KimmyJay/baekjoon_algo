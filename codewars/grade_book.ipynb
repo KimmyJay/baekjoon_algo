{
 "cells": [
  {
   "cell_type": "code",
   "execution_count": null,
   "metadata": {},
   "outputs": [],
   "source": [
    "def get_grade(*scores):\n",
    "    scores = [*scores]\n",
    "    score = sum(scores) / 3\n",
    "    if 90 <= score <= 100: return 'A'\n",
    "    if 80 <= score < 90: return\t'B'\n",
    "    if 70 <= score < 80: return\t'C'\n",
    "    if 60 <= score < 70: return\t'D'\n",
    "    if 0 <= score < 60: return 'F'"
   ]
  }
 ],
 "metadata": {
  "language_info": {
   "name": "python"
  },
  "orig_nbformat": 4
 },
 "nbformat": 4,
 "nbformat_minor": 2
}
