{
 "cells": [
  {
   "cell_type": "code",
   "execution_count": null,
   "metadata": {},
   "outputs": [],
   "source": [
    "# Given a two-dimensional array of integers, return the flattened version\n",
    "# of the array with all the integers in the sorted (ascending) order.\n",
    "def flatten_and_sort(array):\n",
    "    result = []\n",
    "    for i in range(len(array)):\n",
    "        for j in range(len(array[i])):\n",
    "            result.append(array[i][j])\n",
    "    \n",
    "    return sorted(result)"
   ]
  }
 ],
 "metadata": {
  "language_info": {
   "name": "python"
  },
  "orig_nbformat": 4
 },
 "nbformat": 4,
 "nbformat_minor": 2
}
