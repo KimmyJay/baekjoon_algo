{
 "cells": [
  {
   "cell_type": "code",
   "execution_count": null,
   "metadata": {},
   "outputs": [],
   "source": [
    "# Given an array of integers of any length, return an array \n",
    "# that has 1 added to the value represented by the array.\n",
    "\n",
    "# the array can't be empty\n",
    "# only non-negative, single digit integers are allowed\n",
    "# Return nil (or your language's equivalent) for invalid inputs.\n",
    "\n",
    "# my solution\n",
    "def up_array(arr):\n",
    "    if arr:\n",
    "        for num in arr:\n",
    "            if num < 0 or num >=10:\n",
    "                return None\n",
    "        num = int(''.join(str(num) for num in arr)) + 1\n",
    "        return list(map(int, str(num)))\n",
    "    \n",
    "    return None\n",
    "\n",
    "# optimal solution\n",
    "# using built-in functions reduces time\n",
    "def up_array(arr):\n",
    "    if not arr or min(arr) < 0 or max(arr) > 9:\n",
    "        return None\n",
    "    else:\n",
    "        return [int(y) for y in str(int(\"\".join([str(x) for x in arr])) + 1)]"
   ]
  }
 ],
 "metadata": {
  "language_info": {
   "name": "python"
  },
  "orig_nbformat": 4
 },
 "nbformat": 4,
 "nbformat_minor": 2
}
