{
 "cells": [
  {
   "cell_type": "code",
   "execution_count": null,
   "metadata": {},
   "outputs": [],
   "source": [
    "# Given an array integers, find the product of the n maximal numbers.\n",
    "\n",
    "def max_product(arr, n):\n",
    "    sorted_arr = sorted(arr, reverse=True)\n",
    "    res = 1\n",
    "    for i in range(n):\n",
    "        res *= sorted_arr[i]\n",
    "    \n",
    "    return res\n",
    "        \n",
    "\n",
    "from functools import reduce\n",
    "from heapq import nlargest\n",
    "from math import prod\n",
    "\n",
    "def maxProduct (lst, n):\n",
    "    return reduce(prod(nlargest(n, lst)))"
   ]
  }
 ],
 "metadata": {
  "language_info": {
   "name": "python"
  },
  "orig_nbformat": 4
 },
 "nbformat": 4,
 "nbformat_minor": 2
}
