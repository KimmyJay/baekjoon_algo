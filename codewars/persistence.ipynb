{
 "cells": [
  {
   "cell_type": "code",
   "execution_count": null,
   "metadata": {},
   "outputs": [],
   "source": [
    "\n",
    "#  Write a function, persistence, that takes in a positive integer n and\n",
    "#  returns its multiplicative persistence, which is the number of times you \n",
    "#  must multiply the digits in n until you reach a single digit.\n",
    "\n",
    "def persistence(n):\n",
    "    count = 0\n",
    "    while len(str(n)) > 1:\n",
    "        y = 1\n",
    "        for x in str(n):\n",
    "            y *= int(x)\n",
    "        n = str(y)\n",
    "        count += 1\n",
    "\n",
    "    return count\n",
    "\n",
    "print(persistence(39))\n"
   ]
  }
 ],
 "metadata": {
  "language_info": {
   "name": "python"
  },
  "orig_nbformat": 4
 },
 "nbformat": 4,
 "nbformat_minor": 2
}
