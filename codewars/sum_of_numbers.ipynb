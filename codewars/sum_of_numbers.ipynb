{
 "cells": [
  {
   "cell_type": "code",
   "execution_count": null,
   "metadata": {},
   "outputs": [],
   "source": [
    "# Given two integers a and b, which can be positive or negative, \n",
    "# find the sum of all the integers between and including them and return it. \n",
    "# If the two numbers are equal return a or b.\n",
    "# Note: a and b are not ordered!\n",
    "\n",
    "# first attempt\n",
    "def get_sum(a,b):\n",
    "    if a < b:\n",
    "        return sum(x for x in range(a, b+1))\n",
    "    if a > b:\n",
    "        return sum(x for x in range(b, a+1))\n",
    "    if a == b:\n",
    "        return b\n",
    "\n",
    "# more elegant solution\n",
    "# no need for list comprehension when simply extracting all elements from range\n",
    "def get_sum(a,b):\n",
    "    return sum(range(min(a, b), max(a, b) + 1))"
   ]
  }
 ],
 "metadata": {
  "language_info": {
   "name": "python"
  },
  "orig_nbformat": 4
 },
 "nbformat": 4,
 "nbformat_minor": 2
}
