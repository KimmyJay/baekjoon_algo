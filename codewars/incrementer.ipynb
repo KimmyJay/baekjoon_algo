{
 "cells": [
  {
   "cell_type": "code",
   "execution_count": null,
   "metadata": {},
   "outputs": [],
   "source": [
    "# Given an input of an array of digits, return the array with each digit incremented by its position in the array: \n",
    "# the first digit will be incremented by 1, the second digit by 2, etc. Make sure to start counting your positions from 1 ( and not 0 ).\n",
    "# Your result can only contain single digit numbers, so if adding a digit with its position gives you a multiple-digit number, only the last digit of the number should be returned.\n",
    "\n",
    "# Notes:\n",
    "# return an empty array if your array is empty\n",
    "# arrays will only contain numbers so don't worry about checking that\n",
    "\n",
    "# first attempt\n",
    "def incrementer(nums):\n",
    "    res = []\n",
    "    for i, num in enumerate(nums):\n",
    "        if i+1+num >= 10:\n",
    "            res.append((i+1+num) % 10)\n",
    "        else:\n",
    "            res.append(i+1+num)\n",
    "    \n",
    "    return res\n",
    "\n",
    "# using list comprehension\n",
    "# note syntax: enumerate(iterable, start=0)\n",
    "def incrementer(nums):\n",
    "    return [(i+num) % 10 for i, num in enumerate(nums, 1)]"
   ]
  }
 ],
 "metadata": {
  "language_info": {
   "name": "python"
  },
  "orig_nbformat": 4
 },
 "nbformat": 4,
 "nbformat_minor": 2
}
