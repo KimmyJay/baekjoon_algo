{
 "cells": [
  {
   "cell_type": "code",
   "execution_count": null,
   "metadata": {},
   "outputs": [],
   "source": [
    "# Given an array of numbers, return an array, with each member of input array rounded to a nearest number, divisible by 5.\n",
    "# For example:\n",
    "# roundToFive([34.5, 56.2, 11, 13]) ---> [35, 55, 10, 15]\n",
    "\n",
    "def round_to_five(nums):\n",
    "    for i in range(len(nums)):\n",
    "        remainder = nums[i] % 5\n",
    "        if nums[i] % 5 < 2.5:\n",
    "            nums[i] -= remainder\n",
    "        else:\n",
    "            nums[i] += 5 - remainder\n",
    "    \n",
    "    return nums"
   ]
  }
 ],
 "metadata": {
  "language_info": {
   "name": "python"
  },
  "orig_nbformat": 4
 },
 "nbformat": 4,
 "nbformat_minor": 2
}
