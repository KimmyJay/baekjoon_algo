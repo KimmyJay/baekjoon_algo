{
 "cells": [
  {
   "cell_type": "code",
   "execution_count": null,
   "metadata": {},
   "outputs": [],
   "source": [
    "# Your task is to construct a building which will be a pile of n cubes. \n",
    "# The cube at the bottom will have a volume of n^3, the cube above will have volume of (n-1)^3 \n",
    "# and so on until the top which will ha\n",
    "# given volume m, return  integer n such as n^3 + (n-1)^3 + ... + 1^3 = m if such n exists or -1\n",
    "\n",
    "# Examples:\n",
    "# findNb(1071225) --> 45\n",
    "# findNb(91716553919377) --> -1\n",
    "\n",
    "def find_nb(m):\n",
    "    vol = 0\n",
    "    floor = 1\n",
    "    while vol <= m:\n",
    "        vol += floor ** 3\n",
    "        if vol == m: \n",
    "            return floor\n",
    "        floor += 1\n",
    "\n",
    "    return -1\n",
    "\n"
   ]
  }
 ],
 "metadata": {
  "language_info": {
   "name": "python"
  },
  "orig_nbformat": 4
 },
 "nbformat": 4,
 "nbformat_minor": 2
}
