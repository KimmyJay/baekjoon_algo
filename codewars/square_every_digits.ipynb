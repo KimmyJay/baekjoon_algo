{
 "cells": [
  {
   "cell_type": "code",
   "execution_count": null,
   "metadata": {},
   "outputs": [],
   "source": [
    "# square every digit of a given number and concatenate them\n",
    "\n",
    "def square_digits(num):\n",
    "    result = ''\n",
    "    for digit in str(num):\n",
    "        result += str(int(digit)**2)\n",
    "    \n",
    "    return int(result)\n",
    "    "
   ]
  }
 ],
 "metadata": {
  "language_info": {
   "name": "python"
  },
  "orig_nbformat": 4
 },
 "nbformat": 4,
 "nbformat_minor": 2
}
