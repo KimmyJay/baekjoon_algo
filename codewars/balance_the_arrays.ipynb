{
 "cells": [
  {
   "cell_type": "code",
   "execution_count": null,
   "metadata": {},
   "outputs": [],
   "source": [
    "# Check that the two provided arrays both contain the same number of different unique items, regardless of order. For example in the following:\n",
    "# [a,a,a,a,b,b] and [c,c,c,d,c,d]\n",
    "# Both arrays have four of one item and two of another, so balance should return true.\n",
    "\n",
    "from collections import Counter\n",
    "def balance(arr1, arr2):\n",
    "    return sorted(Counter(arr1).values()) == sorted(Counter(arr2).values())"
   ]
  }
 ],
 "metadata": {
  "language_info": {
   "name": "python"
  },
  "orig_nbformat": 4
 },
 "nbformat": 4,
 "nbformat_minor": 2
}
