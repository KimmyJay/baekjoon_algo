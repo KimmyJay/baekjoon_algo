{
 "cells": [
  {
   "cell_type": "code",
   "execution_count": null,
   "metadata": {},
   "outputs": [],
   "source": [
    "# Task\n",
    "# Given the a list of numbers, return a fixed list so that the values increment by 1\n",
    "# for each index from the minimum value up to the maximum value (both included).\n",
    "\n",
    "# Example\n",
    "# Input:  [1,3,5,6,7,8]\n",
    "# Output: [1,2,3,4,5,6,7,8]\n",
    "\n",
    "def pipe_fix(nums):\n",
    "    return list(range(min(nums), max(nums)+1))\n",
    "\n"
   ]
  }
 ],
 "metadata": {
  "language_info": {
   "name": "python"
  },
  "orig_nbformat": 4
 },
 "nbformat": 4,
 "nbformat_minor": 2
}
