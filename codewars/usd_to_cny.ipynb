{
 "cells": [
  {
   "cell_type": "code",
   "execution_count": null,
   "metadata": {},
   "outputs": [],
   "source": [
    "# Create a function that converts US dollars (USD) to Chinese Yuan (CNY). \n",
    "# The input is the amount of USD as an integer, and the output should be a string that states the amount of Yuan followed by 'Chinese Yuan'\n",
    "# example\n",
    "# 15  -> '101.25 Chinese Yuan'\n",
    "# 465 -> '3138.75 Chinese Yuan'\n",
    "\n",
    "# we can make use of str format\n",
    "def usdcny(usd):\n",
    "    return \"{:.2f} Chinese Yuan\".format(usd * 6.75) \n",
    "\n",
    "# alternatively\n",
    "def usdcny(usd):\n",
    "    return f\"{(usd * 6.75):.2f} Chinese Yuan\""
   ]
  }
 ],
 "metadata": {
  "language_info": {
   "name": "python"
  },
  "orig_nbformat": 4
 },
 "nbformat": 4,
 "nbformat_minor": 2
}
