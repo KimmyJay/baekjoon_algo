{
 "cells": [
  {
   "cell_type": "code",
   "execution_count": null,
   "metadata": {},
   "outputs": [],
   "source": [
    "# Create the function that takes as a parameter a sequence of numbers represented as strings and outputs a sequence of numbers.\n",
    "# ie:[\"1\", \"2\", \"3\"] to [1, 2, 3]\n",
    "# Note that you can receive floats as well.\n",
    "\n",
    "def to_float_array(arr): \n",
    "    return list(map(float, arr))"
   ]
  }
 ],
 "metadata": {
  "language_info": {
   "name": "python"
  },
  "orig_nbformat": 4
 },
 "nbformat": 4,
 "nbformat_minor": 2
}
