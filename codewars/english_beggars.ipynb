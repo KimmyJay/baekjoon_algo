{
 "cells": [
  {
   "cell_type": "code",
   "execution_count": null,
   "metadata": {},
   "outputs": [],
   "source": [
    "# given an array of values and an amount of beggars, you are supposed to return an array with \n",
    "# the sum of what each beggar brings home, assuming they all take regular turns, from the first to the last.\n",
    "# For example: [1,2,3,4,5] for 2 beggars will return a result of [9,6], as the first one takes [1,3,5], the second collects [2,4].\n",
    "\n",
    "# first attempt\n",
    "def beggars(values, n):\n",
    "    res = [0] * n # create an array of size n\n",
    "    i = 0\n",
    "    \n",
    "    if n > 0:\n",
    "        for value in values:\n",
    "            res[i] += value\n",
    "            i += 1\n",
    "            if i >= n:\n",
    "                i = 0\n",
    "\n",
    "        return res\n",
    "    \n",
    "    return []\n",
    "\n",
    "# using list slicing\n",
    "def beggars(values, n):\n",
    "    return [sum(values[i::n]) for i in range(n)]"
   ]
  }
 ],
 "metadata": {
  "language_info": {
   "name": "python"
  },
  "orig_nbformat": 4
 },
 "nbformat": 4,
 "nbformat_minor": 2
}
