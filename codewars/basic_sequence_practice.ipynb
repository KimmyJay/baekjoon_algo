{
 "cells": [
  {
   "cell_type": "code",
   "execution_count": null,
   "metadata": {},
   "outputs": [],
   "source": [
    "# 0, 1, 3, 6, 10, 15, 21, 28, ... \n",
    "# This sequence is generated with the pattern: \"the nth term is the sum of numbers from 0 to n, inclusive\".\n",
    "\n",
    "# Complete the function that takes an integer n and returns a list/array of length abs(n) + 1 of the arithmetic series explained above. \n",
    "# When < 0 return the sequence with negative terms.\n",
    "\n",
    "#  Examples\n",
    "#  5  -->  [0,  1,  3,  6,  10,  15]\n",
    "# -5  -->  [0, -1, -3, -6, -10, -15]\n",
    "#  7  -->  [0,  1,  3,  6,  10,  15,  21,  28]\n",
    "\n",
    "# first attempt\n",
    "def sum_of_n(n):\n",
    "    res = []\n",
    "    if n > 0:\n",
    "        for i in range(n+1):\n",
    "            res.append(sum(range(i+1)))\n",
    "\n",
    "    for j in range(0, n-1, -1):\n",
    "            res.append(sum(range(0, j-1, -1)))\n",
    "    \n",
    "    return res\n",
    "\n",
    "# one-liner solution\n",
    "def sum_of_n(n):\n",
    "    return [(-1 if n < 0 else 1) * (i * (i+1) / 2) for i in range(abs(n)+1)]"
   ]
  }
 ],
 "metadata": {
  "language_info": {
   "name": "python"
  },
  "orig_nbformat": 4
 },
 "nbformat": 4,
 "nbformat_minor": 2
}
