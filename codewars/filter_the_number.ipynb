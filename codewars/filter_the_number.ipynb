{
 "cells": [
  {
   "cell_type": "code",
   "execution_count": null,
   "metadata": {},
   "outputs": [],
   "source": [
    "# You will be given a string of numbers and letters mixed up, you have to return all the numbers in that string in the order they occur.\n",
    "\n",
    "# my solution\n",
    "def filter_string(string):\n",
    "    ints = []\n",
    "    for char in string:\n",
    "        try:\n",
    "            ints.append(int(char))\n",
    "        except ValueError:\n",
    "            pass\n",
    "    \n",
    "    return int(''.join(map(str, ints)))\n",
    "\n",
    "# one liner\n",
    "def filter_string(string):\n",
    "    return int(''.join(filter(str.isdigit, string)))"
   ]
  }
 ],
 "metadata": {
  "language_info": {
   "name": "python"
  },
  "orig_nbformat": 4
 },
 "nbformat": 4,
 "nbformat_minor": 2
}
