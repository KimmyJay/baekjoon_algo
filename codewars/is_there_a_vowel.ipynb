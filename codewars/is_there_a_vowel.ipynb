{
 "cells": [
  {
   "cell_type": "code",
   "execution_count": null,
   "metadata": {},
   "outputs": [],
   "source": [
    "# Given an array of numbers, check if any of the numbers are the character codes for lower case vowels (a, e, i, o, u).\n",
    "# If they are, change the array value to a string of that vowel.\n",
    "# Return the resulting array.\n",
    "\n",
    "def is_vow(arr):\n",
    "    for i in range(len(arr)):\n",
    "        if arr[i] in map(ord, ['a','e', 'i', 'o', 'u']):\n",
    "            arr[i] = chr(arr[i])\n",
    "    \n",
    "    return arr\n",
    "\n",
    "# list comprehension\n",
    "def is_vow(inp):\n",
    "    return [chr(n) if chr(n) in \"aeiou\" else n for n in inp]"
   ]
  }
 ],
 "metadata": {
  "language_info": {
   "name": "python"
  },
  "orig_nbformat": 4
 },
 "nbformat": 4,
 "nbformat_minor": 2
}
