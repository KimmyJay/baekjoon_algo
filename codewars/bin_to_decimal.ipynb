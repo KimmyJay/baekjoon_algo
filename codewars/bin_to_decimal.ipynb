{
 "cells": [
  {
   "cell_type": "code",
   "execution_count": null,
   "metadata": {},
   "outputs": [],
   "source": [
    "# Complete the function which converts a binary number (given as a string) to a decimal number.\n",
    "\n",
    "def bin_to_decimal(inp):\n",
    "    return int(inp, 2)"
   ]
  }
 ],
 "metadata": {
  "language_info": {
   "name": "python"
  },
  "orig_nbformat": 4
 },
 "nbformat": 4,
 "nbformat_minor": 2
}
