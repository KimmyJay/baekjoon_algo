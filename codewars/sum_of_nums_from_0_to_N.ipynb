{
 "cells": [
  {
   "cell_type": "code",
   "execution_count": null,
   "metadata": {},
   "outputs": [],
   "source": [
    "#  generate a function that computes the series starting from 0 and ending until the given number.\n",
    "\n",
    "def show_sequence(n):\n",
    "    if n < 0:\n",
    "        return f\"{n}<0\"\n",
    "    if n == 0:\n",
    "        return '0=0'\n",
    "\n",
    "    seq = ''\n",
    "    for i in range(n+1):\n",
    "        seq += f\"{i}+\"\n",
    "    seq = seq[:-1]\n",
    "\n",
    "    seq_sum = sum(range(n+1))\n",
    "\n",
    "    return f\"{seq} = {seq_sum}\"\n",
    "            "
   ]
  }
 ],
 "metadata": {
  "language_info": {
   "name": "python"
  },
  "orig_nbformat": 4
 },
 "nbformat": 4,
 "nbformat_minor": 2
}
