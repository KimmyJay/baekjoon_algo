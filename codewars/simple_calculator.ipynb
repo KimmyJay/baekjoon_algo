{
 "cells": [
  {
   "cell_type": "code",
   "execution_count": null,
   "metadata": {},
   "outputs": [],
   "source": [
    "# You are required to create a simple calculator that returns the result of addition, subtraction, multiplication or division of two numbers.\n",
    "\n",
    "# Your function will accept three arguments:\n",
    "# The first and second argument should be numbers.\n",
    "# The third argument should represent a sign indicating the operation to perform on these two numbers.\n",
    "\n",
    "# if the variables are not numbers or the sign does not belong to the list above a message \"unknown value\" must be returned.\n",
    "\n",
    "# Example:\n",
    "# calculator(1, 2, '+') => 3\n",
    "# calculator(1, 2, '$') # result will be \"unknown value\"\n",
    "\n",
    "def calculator(x,y,op):\n",
    "    if isinstance(x, int) and isinstance(y, int): # check if x and y are integers\n",
    "        ops = {\n",
    "            '+': x+y,\n",
    "            '-': x-y,\n",
    "            '*': x*y,\n",
    "            '/': x/y\n",
    "        }\n",
    "        return ops.get(op, 'unknown value') # return 'unknown value' if operator is not valid\n",
    "    return 'unknown value' # return 'unknown value' if x or y is not an integer"
   ]
  }
 ],
 "metadata": {
  "language_info": {
   "name": "python"
  },
  "orig_nbformat": 4
 },
 "nbformat": 4,
 "nbformat_minor": 2
}
