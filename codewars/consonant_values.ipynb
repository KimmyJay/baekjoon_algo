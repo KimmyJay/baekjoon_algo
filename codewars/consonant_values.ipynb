{
 "cells": [
  {
   "cell_type": "code",
   "execution_count": null,
   "metadata": {},
   "outputs": [],
   "source": [
    "# Given a lowercase string that has alphabetic characters only and no spaces, \n",
    "# return the highest value of consonant substrings. Consonants are any letters of the alphabet except \"aeiou\".\n",
    "# We shall assign the following values: a = 1, b = 2, c = 3, .... z = 26.\n",
    "\n",
    "# first answer\n",
    "def solve(s):\n",
    "    chars = list(s)\n",
    "    # replace vowels with '!'\n",
    "    for i in range(len(chars)):\n",
    "        if chars[i] in 'aeiou':\n",
    "            chars[i] = '!'\n",
    "    substrings = ''.join(chars).split('!')\n",
    "    consonant_values = []\n",
    "    # for each substring, calculate the value of each consonants\n",
    "    for substring in substrings:\n",
    "        value = 0\n",
    "        for char in substring:\n",
    "            value += ord(char) - ord('a') + 1\n",
    "        consonant_values.append(value)\n",
    "    \n",
    "    return max(consonant_values)\n",
    "            "
   ]
  }
 ],
 "metadata": {
  "language_info": {
   "name": "python"
  },
  "orig_nbformat": 4
 },
 "nbformat": 4,
 "nbformat_minor": 2
}
