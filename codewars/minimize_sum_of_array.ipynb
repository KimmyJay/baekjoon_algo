{
 "cells": [
  {
   "cell_type": "code",
   "execution_count": null,
   "metadata": {},
   "outputs": [],
   "source": [
    "# Given an array of integers, find the minimum sum which is obtained from summing each wo integers product.\n",
    "\n",
    "# first attempt\n",
    "def min_sum(arr):\n",
    "    arr.sort() # we want the a collection\n",
    "    i = 0\n",
    "    j = 1\n",
    "    prods = []\n",
    "    while i < len(arr) / 2:\n",
    "        prods.append(arr[i] * arr[-j])\n",
    "        i += 1\n",
    "        j += 1\n",
    "    \n",
    "    return sum(prods)\n",
    "\n",
    "# good practice to not mutate original list w/ sort() ---> use sorted() instead\n",
    "# we can also simplify our loop as such\n",
    "def min_sum(arr):\n",
    "    arr = sorted(arr)\n",
    "    return sum(arr[i] * arr[-i-1] for i in range(len(arr) // 2))"
   ]
  }
 ],
 "metadata": {
  "language_info": {
   "name": "python"
  },
  "orig_nbformat": 4
 },
 "nbformat": 4,
 "nbformat_minor": 2
}
