{
 "cells": [
  {
   "cell_type": "code",
   "execution_count": null,
   "metadata": {},
   "outputs": [],
   "source": [
    "# Write a function that converts any sentence into a V A P O R W A V E sentence. \n",
    "# a V A P O R W A V E sentence converts all the letters into uppercase, \n",
    "# and adds 2 spaces between each letter (or special character) to create this V A P O R W A V E effect\n",
    "\n",
    "# first attempt\n",
    "def vaporcode(s):\n",
    "    return '  '.join(char.upper() for char in s if char != ' ')\n",
    "\n",
    "# using replace() method\n",
    "def vaporcode(s):\n",
    "    return '  '.join(s.replace(' ', '').upper())"
   ]
  }
 ],
 "metadata": {
  "language_info": {
   "name": "python"
  },
  "orig_nbformat": 4
 },
 "nbformat": 4,
 "nbformat_minor": 2
}
