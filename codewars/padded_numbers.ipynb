{
 "cells": [
  {
   "cell_type": "code",
   "execution_count": null,
   "metadata": {},
   "outputs": [],
   "source": [
    "# Complete the solution so that it returns a formatted string. \n",
    "# The return value should equal \"Value is VALUE\" where value is a 5 digit padded number.\n",
    "# Example:\n",
    "# solution(5)  # should return \"Value is 00005\"\n",
    "\n",
    "# my attempt\n",
    "def solution(value):\n",
    "    num_zeros = 5 - len(str(value))\n",
    "    res = '0' * num_zeros + str(value)\n",
    "    \n",
    "    return f'Value is {res}'\n",
    "\n",
    "# one-liner solution\n",
    "# formats the value to display with 5 digits (d = digit)\n",
    "def solution(value):\n",
    "    return \"Value is %05d\" % value"
   ]
  }
 ],
 "metadata": {
  "language_info": {
   "name": "python"
  },
  "orig_nbformat": 4
 },
 "nbformat": 4,
 "nbformat_minor": 2
}
