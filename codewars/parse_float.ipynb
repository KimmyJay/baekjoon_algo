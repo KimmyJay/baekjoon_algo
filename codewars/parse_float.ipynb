{
 "cells": [
  {
   "cell_type": "code",
   "execution_count": null,
   "metadata": {},
   "outputs": [],
   "source": [
    "# Write function parse_float which takes a string/list and returns a number or 'none' if conversion is not possible.\n",
    "\n",
    "def parse_float(string):\n",
    "    try:\n",
    "        return float(string)\n",
    "    except (TypeError, ValueError) as e:\n",
    "        return None"
   ]
  }
 ],
 "metadata": {
  "language_info": {
   "name": "python"
  },
  "orig_nbformat": 4
 },
 "nbformat": 4,
 "nbformat_minor": 2
}
