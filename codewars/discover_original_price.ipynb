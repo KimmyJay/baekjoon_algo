{
 "cells": [
  {
   "cell_type": "code",
   "execution_count": null,
   "metadata": {},
   "outputs": [],
   "source": [
    "# We need to write some code to return the original price of a product, \n",
    "# the return type must be of type decimal and the number must be rounded to two decimal places.\n",
    "# We will be given the sale price (discounted price), and the sale percentage, our job is to figure out the original price.\n",
    "\n",
    "# original_price * (1 - sale_percentage) = discounted_price\n",
    "def discover_original_price(discounted_price, sale_percentage):\n",
    "    return round(discounted_price / (1 - sale_percentage / 100), 2)\n"
   ]
  }
 ],
 "metadata": {
  "language_info": {
   "name": "python"
  },
  "orig_nbformat": 4
 },
 "nbformat": 4,
 "nbformat_minor": 2
}
