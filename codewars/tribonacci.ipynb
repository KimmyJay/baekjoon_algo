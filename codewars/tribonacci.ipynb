{
 "cells": [
  {
   "cell_type": "code",
   "execution_count": null,
   "metadata": {},
   "outputs": [],
   "source": [
    "def tribonacci(signature, n):\n",
    "    if n == 0:\n",
    "        return []\n",
    "    if n < 3:\n",
    "        return [signature[i] for i in range(0,n)]\n",
    "    for i in range(3,n):\n",
    "        signature.append(signature[i-1] + signature[i-2] + signature[i-3])\n",
    "    return signature\n",
    "\n",
    "print(tribonacci([2, 4, 9], 13))\n"
   ]
  }
 ],
 "metadata": {
  "language_info": {
   "name": "python"
  },
  "orig_nbformat": 4
 },
 "nbformat": 4,
 "nbformat_minor": 2
}
