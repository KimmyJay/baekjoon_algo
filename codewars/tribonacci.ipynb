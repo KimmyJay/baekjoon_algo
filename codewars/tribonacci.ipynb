{
 "cells": [
  {
   "cell_type": "code",
   "execution_count": null,
   "metadata": {},
   "outputs": [],
   "source": [
    "# first attempt\n",
    "def tribonacci(signature, n):\n",
    "    if n < 3:\n",
    "        return signature[:n]\n",
    "\n",
    "    for i in range(3, n):\n",
    "        signature.append(sum(signature[-3:]))\n",
    "\n",
    "    return signature\n",
    "\n",
    "# optimized solution\n",
    "def tribonacci(signature, n):\n",
    "  res = signature[:n] # does not raise IndexError ---> slices list until last element\n",
    "\n",
    "  for i in range(n-3): \n",
    "      res.append(sum(res[-3:]))\n",
    "\n",
    "  return res"
   ]
  }
 ],
 "metadata": {
  "interpreter": {
   "hash": "7e1998ff7f8aa20ada591c520b972326324e5ea05489af9e422744c7c09f6dad"
  },
  "kernelspec": {
   "display_name": "Python 3.10.2 64-bit",
   "language": "python",
   "name": "python3"
  },
  "language_info": {
   "codemirror_mode": {
    "name": "ipython",
    "version": 3
   },
   "file_extension": ".py",
   "mimetype": "text/x-python",
   "name": "python",
   "nbconvert_exporter": "python",
   "pygments_lexer": "ipython3",
   "version": "3.10.2"
  },
  "orig_nbformat": 4
 },
 "nbformat": 4,
 "nbformat_minor": 2
}
