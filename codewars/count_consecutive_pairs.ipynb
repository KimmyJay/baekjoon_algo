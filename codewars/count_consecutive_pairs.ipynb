{
 "cells": [
  {
   "cell_type": "code",
   "execution_count": null,
   "metadata": {},
   "outputs": [],
   "source": [
    "# Given an array of integers, return the count of pairs that have consecutive numbers as follows:\n",
    "\n",
    "# pairs([1,2,5,8,-4,-3,7,6,5]) = 3\n",
    "# The pairs are selected as follows [(1,2),(5,8),(-4,-3),(7,6),5]\n",
    "# --the first pair is (1,2) and the numbers in the pair are consecutive; Count = 1\n",
    "# --the second pair is (5,8) and are not consecutive\n",
    "# --the third pair is (-4,-3), consecutive. Count = 2\n",
    "# --the fourth pair is (7,6), also consecutive. Count = 3. \n",
    "# --the last digit has no pair, so we ignore.\n",
    "\n",
    "\n",
    "def pairs(arr):\n",
    "    count = 0\n",
    "    for i in range(1, len(arr), 2): # start from second element w/ step = 2\n",
    "         if abs(arr[i] - arr[i-1]) == 1:\n",
    "                count +=1\n",
    "    \n",
    "    return count"
   ]
  }
 ],
 "metadata": {
  "language_info": {
   "name": "python"
  },
  "orig_nbformat": 4
 },
 "nbformat": 4,
 "nbformat_minor": 2
}
