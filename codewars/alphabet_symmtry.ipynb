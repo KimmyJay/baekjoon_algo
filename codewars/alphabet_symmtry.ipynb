{
 "cells": [
  {
   "cell_type": "code",
   "execution_count": null,
   "metadata": {},
   "outputs": [],
   "source": [
    "# Given an array of words, return an array of the number of letters that occupy their positions in the alphabet for each word. \n",
    "# example) solve([\"abode\",\"ABc\",\"xyzD\"]) ==> [4, 3, 1]\n",
    "\n",
    "def solve(words):\n",
    "    result = []\n",
    "    for word in words:\n",
    "        count = 0\n",
    "        word = list(word.lower())\n",
    "        for i, char in enumerate(word):\n",
    "            if i + 1 == ord(char) - 96:\n",
    "                count += 1\n",
    "        result.append(count)\n",
    "    \n",
    "    return result"
   ]
  }
 ],
 "metadata": {
  "language_info": {
   "name": "python"
  },
  "orig_nbformat": 4
 },
 "nbformat": 4,
 "nbformat_minor": 2
}
