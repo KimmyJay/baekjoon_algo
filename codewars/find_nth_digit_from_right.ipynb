{
 "cells": [
  {
   "cell_type": "code",
   "execution_count": null,
   "metadata": {},
   "outputs": [],
   "source": [
    "# Complete the function that takes two numbers as input, num and nth \n",
    "# and return the nth digit of num (counting from right to left).\n",
    "\n",
    "# If num is negative, ignore its sign and treat it as a positive value\n",
    "# If nth is not positive, return -1\n",
    "# Keep in mind that 42 = 00042. This means that findDigit(42, 5) would return 0\n",
    "\n",
    "#my attempt\n",
    "def find_digit(num, nth):\n",
    "    digits = [x for x in list(str(num)) if x != '-']\n",
    "    \n",
    "    try:\n",
    "        if nth > 0:\n",
    "            return int(digits[-nth])\n",
    "        return -1\n",
    "    \n",
    "    except IndexError:\n",
    "        return 0\n",
    "\n",
    "# refactored solution\n",
    "def find_digit(num, nth):    \n",
    "    try:\n",
    "        if nth > 0:\n",
    "            return int(str(abs(num))[-nth])\n",
    "        return -1\n",
    "    \n",
    "    except IndexError:\n",
    "        return 0\n",
    "\n"
   ]
  }
 ],
 "metadata": {
  "language_info": {
   "name": "python"
  },
  "orig_nbformat": 4
 },
 "nbformat": 4,
 "nbformat_minor": 2
}
