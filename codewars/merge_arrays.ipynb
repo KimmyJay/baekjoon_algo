{
 "cells": [
  {
   "cell_type": "code",
   "execution_count": null,
   "metadata": {},
   "outputs": [],
   "source": [
    "# write a program that will merge two arrays into a single, sorted in ascending order\n",
    "# the merged array must not contain any duplicate elements\n",
    "\n",
    "def merge_arrays(arr1, arr2):\n",
    "    return sorted(list(set(arr1 + arr2))) # convert to set to remove duplicates --> convert back to list and sort to ascending order\n",
    "\n",
    "def merge_arrays(arr1, arr2):\n",
    "    return sorted(set(arr1 + arr2)) # sorted() method will convert set back to list for us"
   ]
  }
 ],
 "metadata": {
  "language_info": {
   "name": "python"
  },
  "orig_nbformat": 4
 },
 "nbformat": 4,
 "nbformat_minor": 2
}
