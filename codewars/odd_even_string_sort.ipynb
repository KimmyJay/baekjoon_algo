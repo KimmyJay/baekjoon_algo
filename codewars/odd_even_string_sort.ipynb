{
 "cells": [
  {
   "cell_type": "code",
   "execution_count": null,
   "metadata": {},
   "outputs": [],
   "source": [
    "# Given a string s. You have to return another string such that even-indexed \n",
    "# and odd-indexed characters of s are grouped and groups are space-separated\n",
    "# Note: \n",
    "# 0 is considered to be an even index. \n",
    "# All input strings are valid with no spaces\n",
    "\n",
    "# my solution\n",
    "def sort_my_string(s):\n",
    "    chars = list(s)\n",
    "    odds = []\n",
    "    evens = []\n",
    "    \n",
    "    for i, char in enumerate(chars):\n",
    "        if i % 2 == 0:\n",
    "            evens.append(char)\n",
    "        else:\n",
    "            odds.append(char)\n",
    "        \n",
    "    return ''.join(evens) +  ' ' + ''.join(odds)\n",
    "\n",
    "# using list slicing\n",
    "# list[ Initial : End : IndexJump ]\n",
    "def sort_my_string(s):\n",
    "    odds = s[::2]\n",
    "    evens = s[1::2]\n",
    "    return '{} {}'.format(odds, evens)\n"
   ]
  }
 ],
 "metadata": {
  "language_info": {
   "name": "python"
  },
  "orig_nbformat": 4
 },
 "nbformat": 4,
 "nbformat_minor": 2
}
