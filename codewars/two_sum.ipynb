{
 "cells": [
  {
   "cell_type": "code",
   "execution_count": null,
   "metadata": {},
   "outputs": [],
   "source": [
    "# Write a function that takes an array of numbers (integers for the tests) and a target number. \n",
    "# It should find two different items in the array that, when added together, give the target value. \n",
    "# The indices of these items should then be returned in a tuple / list (depending on your language) like so: (index1, index2).\n",
    "\n",
    "# For the purposes of this kata, some tests may have multiple answers; any valid solutions will be accepted.\n",
    "# The input will always be valid (numbers will be an array of length 2 or greater, and all of the items will be numbers; \n",
    "# target will always be the sum of two different items from that array).\n",
    "\n",
    "def two_sum(nums, target):\n",
    "    table = {}\n",
    "    for i, num in enumerate(nums):\n",
    "        complement = target - num\n",
    "        if complement in table:\n",
    "            return [i, table[complement]]\n",
    "        table[num] = i\n",
    "    "
   ]
  }
 ],
 "metadata": {
  "language_info": {
   "name": "python"
  },
  "orig_nbformat": 4
 },
 "nbformat": 4,
 "nbformat_minor": 2
}
