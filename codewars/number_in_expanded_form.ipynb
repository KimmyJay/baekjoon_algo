{
 "cells": [
  {
   "cell_type": "code",
   "execution_count": null,
   "metadata": {},
   "outputs": [],
   "source": [
    "# You will be given a number and you will need to return it as a string in Expanded Form. \n",
    "# All numbers will be whole numbers greater than 0.\n",
    "\n",
    "# For example:\n",
    "# expanded_form(12) ----> '10 + 2'\n",
    "# expanded_form(42) ----> '40 + 2'\n",
    "# expanded_form(70304) ----> '70000 + 300 + 4'\n",
    "\n",
    "# first answer\n",
    "def expanded_form(num):\n",
    "    result = []\n",
    "    digits = list(map(int, str(num))) # construct a list that contains all digits of the input number\n",
    "    for i in range(len(digits)):\n",
    "        if digits[i] != 0: # for all non-zero digits, multiply digit to corresponding power of 10 \n",
    "            result.append(str(digits[i] * 10 ** (len(digits) - 1 - i)))\n",
    "   \n",
    "    return ' + '.join(result)\n",
    "\n",
    "# refactored optimal solution that does not only changes type once\n",
    "def expanded_form(num):\n",
    "    num = list(str(num))\n",
    "    return ' + '.join(x + '0' * (len(num) - y - 1) for y,x in enumerate(num) if x != '0')"
   ]
  }
 ],
 "metadata": {
  "language_info": {
   "name": "python"
  },
  "orig_nbformat": 4
 },
 "nbformat": 4,
 "nbformat_minor": 2
}
