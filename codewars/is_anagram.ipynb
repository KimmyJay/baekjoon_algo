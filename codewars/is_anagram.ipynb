{
 "cells": [
  {
   "cell_type": "code",
   "execution_count": null,
   "metadata": {},
   "outputs": [],
   "source": [
    "# Complete the function to return true if the two arguments \n",
    "# given are anagrams of each other; return false otherwise.\n",
    "\n",
    "def is_anagram(test, original):\n",
    "    test_alpha_index = [0] * 26\n",
    "    original_alpha_index = [0] * 26\n",
    "\n",
    "    for char in test.lower():\n",
    "        i = ord(char) - ord('a')\n",
    "        test_alpha_index[i] += 1\n",
    "    \n",
    "    for char in original.lower():\n",
    "        i = ord(char) - ord('a')\n",
    "        original_alpha_index[i] += 1\n",
    "    \n",
    "    return test_alpha_index == original_alpha_index\n",
    "\n",
    "# more optimal solution\n",
    "def is_anagram(test, original):\n",
    "    return sorted(original.lower()) == sorted(test.lower()) \n",
    "        "
   ]
  }
 ],
 "metadata": {
  "language_info": {
   "name": "python"
  },
  "orig_nbformat": 4
 },
 "nbformat": 4,
 "nbformat_minor": 2
}
