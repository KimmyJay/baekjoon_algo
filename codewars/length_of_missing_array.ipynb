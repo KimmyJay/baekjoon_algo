{
 "cells": [
  {
   "cell_type": "code",
   "execution_count": null,
   "metadata": {},
   "outputs": [],
   "source": [
    "# You get an array of arrays.\n",
    "# If you sort the arrays by their length, you will see, that their length-values are consecutive.\n",
    "# But one array is missing!\n",
    "# You have to write a method, that return the length of the missing array.\n",
    "\n",
    "# If the array of arrays is null/nil or empty, the method should return 0.\n",
    "# When an array in the array is null or empty, the method should return 0 too!\n",
    "\n",
    "# Example:\n",
    "# [[1, 2], [4, 5, 1, 1], [1], [5, 6, 7, 8, 9]] --> 3\n",
    "\n",
    "# first attempt\n",
    "def get_length_of_missing_array(array_of_arrays):\n",
    "    if all(array_of_arrays): # if all of the arrays in the array are not None\n",
    "        # list that contains the lengths of the arrays within the array sorted by length\n",
    "        lengths = list(map(len, sorted(array_of_arrays, key=len)))\n",
    "        for i in range(1, len(lengths)):\n",
    "            if lengths[i] != lengths[i-1] + 1: # if there is a missing length\n",
    "                return lengths[i] - 1\n",
    "\n",
    "    return 0"
   ]
  }
 ],
 "metadata": {
  "language_info": {
   "name": "python"
  },
  "orig_nbformat": 4
 },
 "nbformat": 4,
 "nbformat_minor": 2
}
