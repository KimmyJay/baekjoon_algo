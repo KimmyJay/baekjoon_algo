{
 "cells": [
  {
   "cell_type": "code",
   "execution_count": null,
   "metadata": {},
   "outputs": [],
   "source": [
    "# Given an array of 4 integers\n",
    "# [a,b,c,d] representing two points (a, b) and (c, d), return a string representation of the slope of the line joining these two points.\n",
    "\n",
    "# For an undefined slope (division by 0), return undefined . Note that the \"undefined\" is case-sensitive.\n",
    "\n",
    "\n",
    "def find_slope(points):\n",
    "    x1, y1, x2, y2 = points[0], points[1], points[2], points[3]\n",
    "    try:\n",
    "        return str(int((y2-y1) / (x2-x1)))\n",
    "    except ZeroDivisionError:\n",
    "        return \"undefined\""
   ]
  }
 ],
 "metadata": {
  "language_info": {
   "name": "python"
  },
  "orig_nbformat": 4
 },
 "nbformat": 4,
 "nbformat_minor": 2
}
