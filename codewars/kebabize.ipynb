{
 "cells": [
  {
   "cell_type": "code",
   "execution_count": null,
   "metadata": {},
   "outputs": [],
   "source": [
    "# Write a function so that takes in a camel case string and converts it into a kebab case.\n",
    "# examples\n",
    "# kebabize('camelsHaveThreeHumps') // camels-have-three-humps\n",
    "# kebabize('camelsHave3Humps') // camels-have-humps\n",
    "\n",
    "def kebabize(string):\n",
    "    res = \"\"\n",
    "    for char in string:\n",
    "      if char.islower() and char.isalpha():\n",
    "        res += char\n",
    "      elif char.isupper() and char.isalpha():\n",
    "        res += '-' + char.lower()\n",
    "        \n",
    "    return res.lstrip('-')"
   ]
  }
 ],
 "metadata": {
  "language_info": {
   "name": "python"
  },
  "orig_nbformat": 4
 },
 "nbformat": 4,
 "nbformat_minor": 2
}
