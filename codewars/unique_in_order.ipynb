{
 "cells": [
  {
   "cell_type": "code",
   "execution_count": null,
   "metadata": {},
   "outputs": [],
   "source": [
    "# Implement the function unique_in_order which takes as argument a sequence and returns a list of items \n",
    "# without any elements with the same value next to each other and preserving the original order of elements.\n",
    "\n",
    "# first solution\n",
    "def unique_in_order(iterable):\n",
    "    if iterable:\n",
    "        res = []\n",
    "        for i in range(1, len(iterable)):\n",
    "            if iterable[i] == iterable[i-1]:\n",
    "                continue\n",
    "            res.append(iterable[i])\n",
    "        res.insert(0, iterable[0])\n",
    "        return res\n",
    "\n",
    "    return []\n",
    "\n",
    "# more optimal solution\n",
    "def unique_in_order(iterable):\n",
    "    res = []\n",
    "    for item in iterable:\n",
    "        if len(res) == 0 or item != res[-1]:\n",
    "            res.append(item)\n",
    "            \n",
    "    return res\n",
    "\n",
    "# making use of itertools\n",
    "from itertools import groupby\n",
    "\n",
    "def unique_in_order(iterable):\n",
    "    return [k for (k, _) in groupby(iterable)]"
   ]
  }
 ],
 "metadata": {
  "language_info": {
   "name": "python"
  },
  "orig_nbformat": 4
 },
 "nbformat": 4,
 "nbformat_minor": 2
}
