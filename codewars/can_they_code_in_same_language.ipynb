{
 "cells": [
  {
   "cell_type": "code",
   "execution_count": null,
   "metadata": {},
   "outputs": [],
   "source": [
    "# You will be given an array of objects representing data about developers who have signed up to attend the next coding meetup that you are organising.\n",
    "# Your task is to return either:\n",
    "# True if all developers in the list code in the same language or False otherwise.\n",
    "\n",
    "from collections import Counter\n",
    "def is_same_language(users): \n",
    "    return len(Counter(user['language'] for user in users)) == 1"
   ]
  }
 ],
 "metadata": {
  "language_info": {
   "name": "python"
  },
  "orig_nbformat": 4
 },
 "nbformat": 4,
 "nbformat_minor": 2
}
