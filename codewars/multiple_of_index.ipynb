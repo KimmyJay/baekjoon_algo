{
 "cells": [
  {
   "cell_type": "code",
   "execution_count": null,
   "metadata": {},
   "outputs": [],
   "source": [
    "# Return a new array consisting of elements which are multiples\n",
    "# of their own index in input array (length > 1).\n",
    "\n",
    "def multiple_of_index(arr):\n",
    "    result = []\n",
    "    for i in range(1, len(arr)):\n",
    "        if arr[i] % i == 0:\n",
    "            result.append(arr[i])\n",
    "    \n",
    "    return result\n",
    "            "
   ]
  }
 ],
 "metadata": {
  "language_info": {
   "name": "python"
  },
  "orig_nbformat": 4
 },
 "nbformat": 4,
 "nbformat_minor": 2
}
